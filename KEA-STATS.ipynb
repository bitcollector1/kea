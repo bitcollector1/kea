{
 "cells": [
  {
   "cell_type": "markdown",
   "metadata": {},
   "source": [
    "## PYKEADHCP Wrapper can be used instead of requests"
   ]
  },
  {
   "cell_type": "code",
   "execution_count": 80,
   "metadata": {},
   "outputs": [],
   "source": [
    "from pykeadhcp import Kea\n",
    "\n",
    "server = Kea(host=\"https://kea.vip.com\", port=1443, use_basic_auth=True, verify = \"/etc/ssl/certs\",\n",
    "             username=\"admin\", password=\"admin\")"
   ]
  },
  {
   "cell_type": "markdown",
   "metadata": {},
   "source": [
    "## Examine all the KEA STATS --> Built a tool in NetBox to monitor the critical ones! "
   ]
  },
  {
   "cell_type": "code",
   "execution_count": 86,
   "metadata": {},
   "outputs": [
    {
     "name": "stdout",
     "output_type": "stream",
     "text": [
      "cumulative-assigned-addresses\n",
      "declined-addresses\n",
      "pkt4-ack-received\n",
      "pkt4-ack-sent\n",
      "pkt4-decline-received\n",
      "pkt4-discover-received\n",
      "pkt4-inform-received\n",
      "pkt4-nak-received\n",
      "pkt4-nak-sent\n",
      "pkt4-offer-received\n",
      "pkt4-offer-sent\n",
      "pkt4-parse-failed\n",
      "pkt4-receive-drop\n",
      "pkt4-received\n",
      "pkt4-release-received\n",
      "pkt4-request-received\n",
      "pkt4-sent\n",
      "pkt4-unknown-received\n",
      "reclaimed-declined-addresses\n",
      "reclaimed-leases\n",
      "subnet[100].assigned-addresses\n",
      "subnet[100].cumulative-assigned-addresses\n",
      "subnet[100].declined-addresses\n",
      "subnet[100].pool[0].assigned-addresses\n",
      "subnet[100].pool[0].cumulative-assigned-addresses\n",
      "subnet[100].pool[0].declined-addresses\n",
      "subnet[100].pool[0].reclaimed-declined-addresses\n",
      "subnet[100].pool[0].reclaimed-leases\n",
      "subnet[100].pool[0].total-addresses\n",
      "subnet[100].reclaimed-declined-addresses\n",
      "subnet[100].reclaimed-leases\n",
      "subnet[100].total-addresses\n",
      "subnet[100].v4-lease-reuses\n",
      "subnet[100].v4-reservation-conflicts\n",
      "subnet[178].assigned-addresses\n",
      "subnet[178].cumulative-assigned-addresses\n",
      "subnet[178].declined-addresses\n",
      "subnet[178].pool[0].assigned-addresses\n",
      "subnet[178].pool[0].cumulative-assigned-addresses\n",
      "subnet[178].pool[0].declined-addresses\n",
      "subnet[178].pool[0].reclaimed-declined-addresses\n",
      "subnet[178].pool[0].reclaimed-leases\n",
      "subnet[178].pool[0].total-addresses\n",
      "subnet[178].reclaimed-declined-addresses\n",
      "subnet[178].reclaimed-leases\n",
      "subnet[178].total-addresses\n",
      "subnet[178].v4-lease-reuses\n",
      "subnet[178].v4-reservation-conflicts\n",
      "subnet[183].assigned-addresses\n",
      "subnet[183].cumulative-assigned-addresses\n",
      "subnet[183].declined-addresses\n",
      "subnet[183].pool[0].assigned-addresses\n",
      "subnet[183].pool[0].cumulative-assigned-addresses\n",
      "subnet[183].pool[0].declined-addresses\n",
      "subnet[183].pool[0].reclaimed-declined-addresses\n",
      "subnet[183].pool[0].reclaimed-leases\n",
      "subnet[183].pool[0].total-addresses\n",
      "subnet[183].reclaimed-declined-addresses\n",
      "subnet[183].reclaimed-leases\n",
      "subnet[183].total-addresses\n",
      "subnet[183].v4-lease-reuses\n",
      "subnet[183].v4-reservation-conflicts\n",
      "subnet[184].assigned-addresses\n",
      "subnet[184].cumulative-assigned-addresses\n",
      "subnet[184].declined-addresses\n",
      "subnet[184].pool[0].assigned-addresses\n",
      "subnet[184].pool[0].cumulative-assigned-addresses\n",
      "subnet[184].pool[0].declined-addresses\n",
      "subnet[184].pool[0].reclaimed-declined-addresses\n",
      "subnet[184].pool[0].reclaimed-leases\n",
      "subnet[184].pool[0].total-addresses\n",
      "subnet[184].reclaimed-declined-addresses\n",
      "subnet[184].reclaimed-leases\n",
      "subnet[184].total-addresses\n",
      "subnet[184].v4-lease-reuses\n",
      "subnet[184].v4-reservation-conflicts\n",
      "subnet[185].assigned-addresses\n",
      "subnet[185].cumulative-assigned-addresses\n",
      "subnet[185].declined-addresses\n",
      "subnet[185].pool[0].assigned-addresses\n",
      "subnet[185].pool[0].cumulative-assigned-addresses\n",
      "subnet[185].pool[0].declined-addresses\n",
      "subnet[185].pool[0].reclaimed-declined-addresses\n",
      "subnet[185].pool[0].reclaimed-leases\n",
      "subnet[185].pool[0].total-addresses\n",
      "subnet[185].reclaimed-declined-addresses\n",
      "subnet[185].reclaimed-leases\n",
      "subnet[185].total-addresses\n",
      "subnet[185].v4-lease-reuses\n",
      "subnet[185].v4-reservation-conflicts\n",
      "subnet[188].assigned-addresses\n",
      "subnet[188].cumulative-assigned-addresses\n",
      "subnet[188].declined-addresses\n",
      "subnet[188].pool[0].assigned-addresses\n",
      "subnet[188].pool[0].cumulative-assigned-addresses\n",
      "subnet[188].pool[0].declined-addresses\n",
      "subnet[188].pool[0].reclaimed-declined-addresses\n",
      "subnet[188].pool[0].reclaimed-leases\n",
      "subnet[188].pool[0].total-addresses\n",
      "subnet[188].reclaimed-declined-addresses\n",
      "subnet[188].reclaimed-leases\n",
      "subnet[188].total-addresses\n",
      "subnet[188].v4-allocation-fail\n",
      "subnet[188].v4-allocation-fail-classes\n",
      "subnet[188].v4-allocation-fail-shared-network\n",
      "subnet[188].v4-lease-reuses\n",
      "subnet[188].v4-reservation-conflicts\n",
      "subnet[190].assigned-addresses\n",
      "subnet[190].cumulative-assigned-addresses\n",
      "subnet[190].declined-addresses\n",
      "subnet[190].pool[0].assigned-addresses\n",
      "subnet[190].pool[0].cumulative-assigned-addresses\n",
      "subnet[190].pool[0].declined-addresses\n",
      "subnet[190].pool[0].reclaimed-declined-addresses\n",
      "subnet[190].pool[0].reclaimed-leases\n",
      "subnet[190].pool[0].total-addresses\n",
      "subnet[190].reclaimed-declined-addresses\n",
      "subnet[190].reclaimed-leases\n",
      "subnet[190].total-addresses\n",
      "subnet[190].v4-lease-reuses\n",
      "subnet[190].v4-reservation-conflicts\n",
      "subnet[191].assigned-addresses\n",
      "subnet[191].cumulative-assigned-addresses\n",
      "subnet[191].declined-addresses\n",
      "subnet[191].pool[0].assigned-addresses\n",
      "subnet[191].pool[0].cumulative-assigned-addresses\n",
      "subnet[191].pool[0].declined-addresses\n",
      "subnet[191].pool[0].reclaimed-declined-addresses\n",
      "subnet[191].pool[0].reclaimed-leases\n",
      "subnet[191].pool[0].total-addresses\n",
      "subnet[191].reclaimed-declined-addresses\n",
      "subnet[191].reclaimed-leases\n",
      "subnet[191].total-addresses\n",
      "subnet[191].v4-lease-reuses\n",
      "subnet[191].v4-reservation-conflicts\n",
      "subnet[192].assigned-addresses\n",
      "subnet[192].cumulative-assigned-addresses\n",
      "subnet[192].declined-addresses\n",
      "subnet[192].pool[0].assigned-addresses\n",
      "subnet[192].pool[0].cumulative-assigned-addresses\n",
      "subnet[192].pool[0].declined-addresses\n",
      "subnet[192].pool[0].reclaimed-declined-addresses\n",
      "subnet[192].pool[0].reclaimed-leases\n",
      "subnet[192].pool[0].total-addresses\n",
      "subnet[192].reclaimed-declined-addresses\n",
      "subnet[192].reclaimed-leases\n",
      "subnet[192].total-addresses\n",
      "subnet[192].v4-lease-reuses\n",
      "subnet[192].v4-reservation-conflicts\n",
      "subnet[193].assigned-addresses\n",
      "subnet[193].cumulative-assigned-addresses\n",
      "subnet[193].declined-addresses\n",
      "subnet[193].pool[0].assigned-addresses\n",
      "subnet[193].pool[0].cumulative-assigned-addresses\n",
      "subnet[193].pool[0].declined-addresses\n",
      "subnet[193].pool[0].reclaimed-declined-addresses\n",
      "subnet[193].pool[0].reclaimed-leases\n",
      "subnet[193].pool[0].total-addresses\n",
      "subnet[193].reclaimed-declined-addresses\n",
      "subnet[193].reclaimed-leases\n",
      "subnet[193].total-addresses\n",
      "subnet[193].v4-lease-reuses\n",
      "subnet[193].v4-reservation-conflicts\n",
      "subnet[194].assigned-addresses\n",
      "subnet[194].cumulative-assigned-addresses\n",
      "subnet[194].declined-addresses\n",
      "subnet[194].pool[0].assigned-addresses\n",
      "subnet[194].pool[0].cumulative-assigned-addresses\n",
      "subnet[194].pool[0].declined-addresses\n",
      "subnet[194].pool[0].reclaimed-declined-addresses\n",
      "subnet[194].pool[0].reclaimed-leases\n",
      "subnet[194].pool[0].total-addresses\n",
      "subnet[194].reclaimed-declined-addresses\n",
      "subnet[194].reclaimed-leases\n",
      "subnet[194].total-addresses\n",
      "subnet[194].v4-lease-reuses\n",
      "subnet[194].v4-reservation-conflicts\n",
      "subnet[201].assigned-addresses\n",
      "subnet[201].cumulative-assigned-addresses\n",
      "subnet[201].declined-addresses\n",
      "subnet[201].pool[0].assigned-addresses\n",
      "subnet[201].pool[0].cumulative-assigned-addresses\n",
      "subnet[201].pool[0].declined-addresses\n",
      "subnet[201].pool[0].reclaimed-declined-addresses\n",
      "subnet[201].pool[0].reclaimed-leases\n",
      "subnet[201].pool[0].total-addresses\n",
      "subnet[201].reclaimed-declined-addresses\n",
      "subnet[201].reclaimed-leases\n",
      "subnet[201].total-addresses\n",
      "subnet[201].v4-lease-reuses\n",
      "subnet[201].v4-reservation-conflicts\n",
      "subnet[203].assigned-addresses\n",
      "subnet[203].cumulative-assigned-addresses\n",
      "subnet[203].declined-addresses\n",
      "subnet[203].pool[0].assigned-addresses\n",
      "subnet[203].pool[0].cumulative-assigned-addresses\n",
      "subnet[203].pool[0].declined-addresses\n",
      "subnet[203].pool[0].reclaimed-declined-addresses\n",
      "subnet[203].pool[0].reclaimed-leases\n",
      "subnet[203].pool[0].total-addresses\n",
      "subnet[203].reclaimed-declined-addresses\n",
      "subnet[203].reclaimed-leases\n",
      "subnet[203].total-addresses\n",
      "subnet[203].v4-lease-reuses\n",
      "subnet[203].v4-reservation-conflicts\n",
      "subnet[204].assigned-addresses\n",
      "subnet[204].cumulative-assigned-addresses\n",
      "subnet[204].declined-addresses\n",
      "subnet[204].pool[0].assigned-addresses\n",
      "subnet[204].pool[0].cumulative-assigned-addresses\n",
      "subnet[204].pool[0].declined-addresses\n",
      "subnet[204].pool[0].reclaimed-declined-addresses\n",
      "subnet[204].pool[0].reclaimed-leases\n",
      "subnet[204].pool[0].total-addresses\n",
      "subnet[204].reclaimed-declined-addresses\n",
      "subnet[204].reclaimed-leases\n",
      "subnet[204].total-addresses\n",
      "subnet[204].v4-lease-reuses\n",
      "subnet[204].v4-reservation-conflicts\n",
      "subnet[206].assigned-addresses\n",
      "subnet[206].cumulative-assigned-addresses\n",
      "subnet[206].declined-addresses\n",
      "subnet[206].pool[0].assigned-addresses\n",
      "subnet[206].pool[0].cumulative-assigned-addresses\n",
      "subnet[206].pool[0].declined-addresses\n",
      "subnet[206].pool[0].reclaimed-declined-addresses\n",
      "subnet[206].pool[0].reclaimed-leases\n",
      "subnet[206].pool[0].total-addresses\n",
      "subnet[206].reclaimed-declined-addresses\n",
      "subnet[206].reclaimed-leases\n",
      "subnet[206].total-addresses\n",
      "subnet[206].v4-lease-reuses\n",
      "subnet[206].v4-reservation-conflicts\n",
      "subnet[208].assigned-addresses\n",
      "subnet[208].cumulative-assigned-addresses\n",
      "subnet[208].declined-addresses\n",
      "subnet[208].pool[0].assigned-addresses\n",
      "subnet[208].pool[0].cumulative-assigned-addresses\n",
      "subnet[208].pool[0].declined-addresses\n",
      "subnet[208].pool[0].reclaimed-declined-addresses\n",
      "subnet[208].pool[0].reclaimed-leases\n",
      "subnet[208].pool[0].total-addresses\n",
      "subnet[208].reclaimed-declined-addresses\n",
      "subnet[208].reclaimed-leases\n",
      "subnet[208].total-addresses\n",
      "subnet[208].v4-lease-reuses\n",
      "subnet[208].v4-reservation-conflicts\n",
      "subnet[209].assigned-addresses\n",
      "subnet[209].cumulative-assigned-addresses\n",
      "subnet[209].declined-addresses\n",
      "subnet[209].pool[0].assigned-addresses\n",
      "subnet[209].pool[0].cumulative-assigned-addresses\n",
      "subnet[209].pool[0].declined-addresses\n",
      "subnet[209].pool[0].reclaimed-declined-addresses\n",
      "subnet[209].pool[0].reclaimed-leases\n",
      "subnet[209].pool[0].total-addresses\n",
      "subnet[209].reclaimed-declined-addresses\n",
      "subnet[209].reclaimed-leases\n",
      "subnet[209].total-addresses\n",
      "subnet[209].v4-lease-reuses\n",
      "subnet[209].v4-reservation-conflicts\n",
      "subnet[214].assigned-addresses\n",
      "subnet[214].cumulative-assigned-addresses\n",
      "subnet[214].declined-addresses\n",
      "subnet[214].pool[0].assigned-addresses\n",
      "subnet[214].pool[0].cumulative-assigned-addresses\n",
      "subnet[214].pool[0].declined-addresses\n",
      "subnet[214].pool[0].reclaimed-declined-addresses\n",
      "subnet[214].pool[0].reclaimed-leases\n",
      "subnet[214].pool[0].total-addresses\n",
      "subnet[214].reclaimed-declined-addresses\n",
      "subnet[214].reclaimed-leases\n",
      "subnet[214].total-addresses\n",
      "subnet[214].v4-lease-reuses\n",
      "subnet[214].v4-reservation-conflicts\n",
      "subnet[216].assigned-addresses\n",
      "subnet[216].cumulative-assigned-addresses\n",
      "subnet[216].declined-addresses\n",
      "subnet[216].pool[0].assigned-addresses\n",
      "subnet[216].pool[0].cumulative-assigned-addresses\n",
      "subnet[216].pool[0].declined-addresses\n",
      "subnet[216].pool[0].reclaimed-declined-addresses\n",
      "subnet[216].pool[0].reclaimed-leases\n",
      "subnet[216].pool[0].total-addresses\n",
      "subnet[216].reclaimed-declined-addresses\n",
      "subnet[216].reclaimed-leases\n",
      "subnet[216].total-addresses\n",
      "subnet[216].v4-lease-reuses\n",
      "subnet[216].v4-reservation-conflicts\n",
      "subnet[223].assigned-addresses\n",
      "subnet[223].cumulative-assigned-addresses\n",
      "subnet[223].declined-addresses\n",
      "subnet[223].pool[0].assigned-addresses\n",
      "subnet[223].pool[0].cumulative-assigned-addresses\n",
      "subnet[223].pool[0].declined-addresses\n",
      "subnet[223].pool[0].reclaimed-declined-addresses\n",
      "subnet[223].pool[0].reclaimed-leases\n",
      "subnet[223].pool[0].total-addresses\n",
      "subnet[223].reclaimed-declined-addresses\n",
      "subnet[223].reclaimed-leases\n",
      "subnet[223].total-addresses\n",
      "subnet[223].v4-lease-reuses\n",
      "subnet[223].v4-reservation-conflicts\n",
      "subnet[5].assigned-addresses\n",
      "subnet[5].cumulative-assigned-addresses\n",
      "subnet[5].declined-addresses\n",
      "subnet[5].pool[0].assigned-addresses\n",
      "subnet[5].pool[0].cumulative-assigned-addresses\n",
      "subnet[5].pool[0].declined-addresses\n",
      "subnet[5].pool[0].reclaimed-declined-addresses\n",
      "subnet[5].pool[0].reclaimed-leases\n",
      "subnet[5].pool[0].total-addresses\n",
      "subnet[5].reclaimed-declined-addresses\n",
      "subnet[5].reclaimed-leases\n",
      "subnet[5].total-addresses\n",
      "subnet[5].v4-lease-reuses\n",
      "subnet[5].v4-reservation-conflicts\n",
      "subnet[69].assigned-addresses\n",
      "subnet[69].cumulative-assigned-addresses\n",
      "subnet[69].declined-addresses\n",
      "subnet[69].pool[0].assigned-addresses\n",
      "subnet[69].pool[0].cumulative-assigned-addresses\n",
      "subnet[69].pool[0].declined-addresses\n",
      "subnet[69].pool[0].reclaimed-declined-addresses\n",
      "subnet[69].pool[0].reclaimed-leases\n",
      "subnet[69].pool[0].total-addresses\n",
      "subnet[69].reclaimed-declined-addresses\n",
      "subnet[69].reclaimed-leases\n",
      "subnet[69].total-addresses\n",
      "subnet[69].v4-allocation-fail-classes\n",
      "subnet[69].v4-allocation-fail-no-pools\n",
      "subnet[69].v4-allocation-fail-subnet\n",
      "subnet[69].v4-lease-reuses\n",
      "subnet[69].v4-reservation-conflicts\n",
      "subnet[6].assigned-addresses\n",
      "subnet[6].cumulative-assigned-addresses\n",
      "subnet[6].declined-addresses\n",
      "subnet[6].pool[0].assigned-addresses\n",
      "subnet[6].pool[0].cumulative-assigned-addresses\n",
      "subnet[6].pool[0].declined-addresses\n",
      "subnet[6].pool[0].reclaimed-declined-addresses\n",
      "subnet[6].pool[0].reclaimed-leases\n",
      "subnet[6].pool[0].total-addresses\n",
      "subnet[6].reclaimed-declined-addresses\n",
      "subnet[6].reclaimed-leases\n",
      "subnet[6].total-addresses\n",
      "subnet[6].v4-lease-reuses\n",
      "subnet[6].v4-reservation-conflicts\n",
      "subnet[70].assigned-addresses\n",
      "subnet[70].cumulative-assigned-addresses\n",
      "subnet[70].declined-addresses\n",
      "subnet[70].pool[0].assigned-addresses\n",
      "subnet[70].pool[0].cumulative-assigned-addresses\n",
      "subnet[70].pool[0].declined-addresses\n",
      "subnet[70].pool[0].reclaimed-declined-addresses\n",
      "subnet[70].pool[0].reclaimed-leases\n",
      "subnet[70].pool[0].total-addresses\n",
      "subnet[70].reclaimed-declined-addresses\n",
      "subnet[70].reclaimed-leases\n",
      "subnet[70].total-addresses\n",
      "subnet[70].v4-lease-reuses\n",
      "subnet[70].v4-reservation-conflicts\n",
      "subnet[71].assigned-addresses\n",
      "subnet[71].cumulative-assigned-addresses\n",
      "subnet[71].declined-addresses\n",
      "subnet[71].pool[0].assigned-addresses\n",
      "subnet[71].pool[0].cumulative-assigned-addresses\n",
      "subnet[71].pool[0].declined-addresses\n",
      "subnet[71].pool[0].reclaimed-declined-addresses\n",
      "subnet[71].pool[0].reclaimed-leases\n",
      "subnet[71].pool[0].total-addresses\n",
      "subnet[71].reclaimed-declined-addresses\n",
      "subnet[71].reclaimed-leases\n",
      "subnet[71].total-addresses\n",
      "subnet[71].v4-lease-reuses\n",
      "subnet[71].v4-reservation-conflicts\n",
      "subnet[73].assigned-addresses\n",
      "subnet[73].cumulative-assigned-addresses\n",
      "subnet[73].declined-addresses\n",
      "subnet[73].pool[0].assigned-addresses\n",
      "subnet[73].pool[0].cumulative-assigned-addresses\n",
      "subnet[73].pool[0].declined-addresses\n",
      "subnet[73].pool[0].reclaimed-declined-addresses\n",
      "subnet[73].pool[0].reclaimed-leases\n",
      "subnet[73].pool[0].total-addresses\n",
      "subnet[73].reclaimed-declined-addresses\n",
      "subnet[73].reclaimed-leases\n",
      "subnet[73].total-addresses\n",
      "subnet[73].v4-lease-reuses\n",
      "subnet[73].v4-reservation-conflicts\n",
      "subnet[76].assigned-addresses\n",
      "subnet[76].cumulative-assigned-addresses\n",
      "subnet[76].declined-addresses\n",
      "subnet[76].pool[0].assigned-addresses\n",
      "subnet[76].pool[0].cumulative-assigned-addresses\n",
      "subnet[76].pool[0].declined-addresses\n",
      "subnet[76].pool[0].reclaimed-declined-addresses\n",
      "subnet[76].pool[0].reclaimed-leases\n",
      "subnet[76].pool[0].total-addresses\n",
      "subnet[76].reclaimed-declined-addresses\n",
      "subnet[76].reclaimed-leases\n",
      "subnet[76].total-addresses\n",
      "subnet[76].v4-lease-reuses\n",
      "subnet[76].v4-reservation-conflicts\n",
      "subnet[7].assigned-addresses\n",
      "subnet[7].cumulative-assigned-addresses\n",
      "subnet[7].declined-addresses\n",
      "subnet[7].pool[0].assigned-addresses\n",
      "subnet[7].pool[0].cumulative-assigned-addresses\n",
      "subnet[7].pool[0].declined-addresses\n",
      "subnet[7].pool[0].reclaimed-declined-addresses\n",
      "subnet[7].pool[0].reclaimed-leases\n",
      "subnet[7].pool[0].total-addresses\n",
      "subnet[7].reclaimed-declined-addresses\n",
      "subnet[7].reclaimed-leases\n",
      "subnet[7].total-addresses\n",
      "subnet[7].v4-lease-reuses\n",
      "subnet[7].v4-reservation-conflicts\n",
      "subnet[830827846].pool[0].assigned-addresses\n",
      "subnet[83].assigned-addresses\n",
      "subnet[83].cumulative-assigned-addresses\n",
      "subnet[83].declined-addresses\n",
      "subnet[83].pool[0].assigned-addresses\n",
      "subnet[83].pool[0].cumulative-assigned-addresses\n",
      "subnet[83].pool[0].declined-addresses\n",
      "subnet[83].pool[0].reclaimed-declined-addresses\n",
      "subnet[83].pool[0].reclaimed-leases\n",
      "subnet[83].pool[0].total-addresses\n",
      "subnet[83].reclaimed-declined-addresses\n",
      "subnet[83].reclaimed-leases\n",
      "subnet[83].total-addresses\n",
      "subnet[83].v4-lease-reuses\n",
      "subnet[83].v4-reservation-conflicts\n",
      "subnet[84].assigned-addresses\n",
      "subnet[84].cumulative-assigned-addresses\n",
      "subnet[84].declined-addresses\n",
      "subnet[84].pool[0].assigned-addresses\n",
      "subnet[84].pool[0].cumulative-assigned-addresses\n",
      "subnet[84].pool[0].declined-addresses\n",
      "subnet[84].pool[0].reclaimed-declined-addresses\n",
      "subnet[84].pool[0].reclaimed-leases\n",
      "subnet[84].pool[0].total-addresses\n",
      "subnet[84].reclaimed-declined-addresses\n",
      "subnet[84].reclaimed-leases\n",
      "subnet[84].total-addresses\n",
      "subnet[84].v4-lease-reuses\n",
      "subnet[84].v4-reservation-conflicts\n",
      "subnet[85].assigned-addresses\n",
      "subnet[85].cumulative-assigned-addresses\n",
      "subnet[85].declined-addresses\n",
      "subnet[85].pool[0].assigned-addresses\n",
      "subnet[85].pool[0].cumulative-assigned-addresses\n",
      "subnet[85].pool[0].declined-addresses\n",
      "subnet[85].pool[0].reclaimed-declined-addresses\n",
      "subnet[85].pool[0].reclaimed-leases\n",
      "subnet[85].pool[0].total-addresses\n",
      "subnet[85].reclaimed-declined-addresses\n",
      "subnet[85].reclaimed-leases\n",
      "subnet[85].total-addresses\n",
      "subnet[85].v4-lease-reuses\n",
      "subnet[85].v4-reservation-conflicts\n",
      "subnet[86].assigned-addresses\n",
      "subnet[86].cumulative-assigned-addresses\n",
      "subnet[86].declined-addresses\n",
      "subnet[86].pool[0].assigned-addresses\n",
      "subnet[86].pool[0].cumulative-assigned-addresses\n",
      "subnet[86].pool[0].declined-addresses\n",
      "subnet[86].pool[0].reclaimed-declined-addresses\n",
      "subnet[86].pool[0].reclaimed-leases\n",
      "subnet[86].pool[0].total-addresses\n",
      "subnet[86].reclaimed-declined-addresses\n",
      "subnet[86].reclaimed-leases\n",
      "subnet[86].total-addresses\n",
      "subnet[86].v4-lease-reuses\n",
      "subnet[86].v4-reservation-conflicts\n",
      "subnet[87].assigned-addresses\n",
      "subnet[87].cumulative-assigned-addresses\n",
      "subnet[87].declined-addresses\n",
      "subnet[87].pool[0].assigned-addresses\n",
      "subnet[87].pool[0].cumulative-assigned-addresses\n",
      "subnet[87].pool[0].declined-addresses\n",
      "subnet[87].pool[0].reclaimed-declined-addresses\n",
      "subnet[87].pool[0].reclaimed-leases\n",
      "subnet[87].pool[0].total-addresses\n",
      "subnet[87].reclaimed-declined-addresses\n",
      "subnet[87].reclaimed-leases\n",
      "subnet[87].total-addresses\n",
      "subnet[87].v4-allocation-fail\n",
      "subnet[87].v4-allocation-fail-classes\n",
      "subnet[87].v4-allocation-fail-shared-network\n",
      "subnet[87].v4-lease-reuses\n",
      "subnet[87].v4-reservation-conflicts\n",
      "subnet[88].assigned-addresses\n",
      "subnet[88].cumulative-assigned-addresses\n",
      "subnet[88].declined-addresses\n",
      "subnet[88].pool[0].assigned-addresses\n",
      "subnet[88].pool[0].cumulative-assigned-addresses\n",
      "subnet[88].pool[0].declined-addresses\n",
      "subnet[88].pool[0].reclaimed-declined-addresses\n",
      "subnet[88].pool[0].reclaimed-leases\n",
      "subnet[88].pool[0].total-addresses\n",
      "subnet[88].reclaimed-declined-addresses\n",
      "subnet[88].reclaimed-leases\n",
      "subnet[88].total-addresses\n",
      "subnet[88].v4-lease-reuses\n",
      "subnet[88].v4-reservation-conflicts\n",
      "subnet[89].assigned-addresses\n",
      "subnet[89].cumulative-assigned-addresses\n",
      "subnet[89].declined-addresses\n",
      "subnet[89].pool[0].assigned-addresses\n",
      "subnet[89].pool[0].cumulative-assigned-addresses\n",
      "subnet[89].pool[0].declined-addresses\n",
      "subnet[89].pool[0].reclaimed-declined-addresses\n",
      "subnet[89].pool[0].reclaimed-leases\n",
      "subnet[89].pool[0].total-addresses\n",
      "subnet[89].reclaimed-declined-addresses\n",
      "subnet[89].reclaimed-leases\n",
      "subnet[89].total-addresses\n",
      "subnet[89].v4-lease-reuses\n",
      "subnet[89].v4-reservation-conflicts\n",
      "subnet[8].assigned-addresses\n",
      "subnet[8].cumulative-assigned-addresses\n",
      "subnet[8].declined-addresses\n",
      "subnet[8].pool[0].assigned-addresses\n",
      "subnet[8].pool[0].cumulative-assigned-addresses\n",
      "subnet[8].pool[0].declined-addresses\n",
      "subnet[8].pool[0].reclaimed-declined-addresses\n",
      "subnet[8].pool[0].reclaimed-leases\n",
      "subnet[8].pool[0].total-addresses\n",
      "subnet[8].reclaimed-declined-addresses\n",
      "subnet[8].reclaimed-leases\n",
      "subnet[8].total-addresses\n",
      "subnet[8].v4-lease-reuses\n",
      "subnet[8].v4-reservation-conflicts\n",
      "subnet[90].assigned-addresses\n",
      "subnet[90].cumulative-assigned-addresses\n",
      "subnet[90].declined-addresses\n",
      "subnet[90].pool[0].assigned-addresses\n",
      "subnet[90].pool[0].cumulative-assigned-addresses\n",
      "subnet[90].pool[0].declined-addresses\n",
      "subnet[90].pool[0].reclaimed-declined-addresses\n",
      "subnet[90].pool[0].reclaimed-leases\n",
      "subnet[90].pool[0].total-addresses\n",
      "subnet[90].reclaimed-declined-addresses\n",
      "subnet[90].reclaimed-leases\n",
      "subnet[90].total-addresses\n",
      "subnet[90].v4-allocation-fail\n",
      "subnet[90].v4-allocation-fail-classes\n",
      "subnet[90].v4-allocation-fail-shared-network\n",
      "subnet[90].v4-lease-reuses\n",
      "subnet[90].v4-reservation-conflicts\n",
      "subnet[91].assigned-addresses\n",
      "subnet[91].cumulative-assigned-addresses\n",
      "subnet[91].declined-addresses\n",
      "subnet[91].reclaimed-declined-addresses\n",
      "subnet[91].reclaimed-leases\n",
      "subnet[91].total-addresses\n",
      "subnet[91].v4-lease-reuses\n",
      "subnet[91].v4-reservation-conflicts\n",
      "subnet[92].assigned-addresses\n",
      "subnet[92].cumulative-assigned-addresses\n",
      "subnet[92].declined-addresses\n",
      "subnet[92].reclaimed-declined-addresses\n",
      "subnet[92].reclaimed-leases\n",
      "subnet[92].total-addresses\n",
      "subnet[92].v4-lease-reuses\n",
      "subnet[92].v4-reservation-conflicts\n",
      "subnet[93].assigned-addresses\n",
      "subnet[93].cumulative-assigned-addresses\n",
      "subnet[93].declined-addresses\n",
      "subnet[93].reclaimed-declined-addresses\n",
      "subnet[93].reclaimed-leases\n",
      "subnet[93].total-addresses\n",
      "subnet[93].v4-lease-reuses\n",
      "subnet[93].v4-reservation-conflicts\n",
      "subnet[94].assigned-addresses\n",
      "subnet[94].cumulative-assigned-addresses\n",
      "subnet[94].declined-addresses\n",
      "subnet[94].pool[0].assigned-addresses\n",
      "subnet[94].pool[0].cumulative-assigned-addresses\n",
      "subnet[94].pool[0].declined-addresses\n",
      "subnet[94].pool[0].reclaimed-declined-addresses\n",
      "subnet[94].pool[0].reclaimed-leases\n",
      "subnet[94].pool[0].total-addresses\n",
      "subnet[94].reclaimed-declined-addresses\n",
      "subnet[94].reclaimed-leases\n",
      "subnet[94].total-addresses\n",
      "subnet[94].v4-allocation-fail\n",
      "subnet[94].v4-allocation-fail-classes\n",
      "subnet[94].v4-allocation-fail-shared-network\n",
      "subnet[94].v4-lease-reuses\n",
      "subnet[94].v4-reservation-conflicts\n",
      "subnet[96].assigned-addresses\n",
      "subnet[96].cumulative-assigned-addresses\n",
      "subnet[96].declined-addresses\n",
      "subnet[96].pool[0].assigned-addresses\n",
      "subnet[96].pool[0].cumulative-assigned-addresses\n",
      "subnet[96].pool[0].declined-addresses\n",
      "subnet[96].pool[0].reclaimed-declined-addresses\n",
      "subnet[96].pool[0].reclaimed-leases\n",
      "subnet[96].pool[0].total-addresses\n",
      "subnet[96].reclaimed-declined-addresses\n",
      "subnet[96].reclaimed-leases\n",
      "subnet[96].total-addresses\n",
      "subnet[96].v4-allocation-fail-classes\n",
      "subnet[96].v4-allocation-fail-no-pools\n",
      "subnet[96].v4-allocation-fail-subnet\n",
      "subnet[96].v4-lease-reuses\n",
      "subnet[96].v4-reservation-conflicts\n",
      "subnet[99].assigned-addresses\n",
      "subnet[99].cumulative-assigned-addresses\n",
      "subnet[99].declined-addresses\n",
      "subnet[99].pool[0].assigned-addresses\n",
      "subnet[99].pool[0].cumulative-assigned-addresses\n",
      "subnet[99].pool[0].declined-addresses\n",
      "subnet[99].pool[0].reclaimed-declined-addresses\n",
      "subnet[99].pool[0].reclaimed-leases\n",
      "subnet[99].pool[0].total-addresses\n",
      "subnet[99].reclaimed-declined-addresses\n",
      "subnet[99].reclaimed-leases\n",
      "subnet[99].total-addresses\n",
      "subnet[99].v4-lease-reuses\n",
      "subnet[99].v4-reservation-conflicts\n",
      "v4-allocation-fail\n",
      "v4-allocation-fail-classes\n",
      "v4-allocation-fail-no-pools\n",
      "v4-allocation-fail-shared-network\n",
      "v4-allocation-fail-subnet\n",
      "v4-lease-reuses\n",
      "v4-reservation-conflicts\n"
     ]
    }
   ],
   "source": [
    "for i in server.dhcp4.statistic_get_all().arguments.keys():\n",
    "    print(i)"
   ]
  },
  {
   "cell_type": "markdown",
   "metadata": {},
   "source": [
    "## REMOVE INCORRECT SUBNET STATS USING REQUESTS LIBRARY"
   ]
  },
  {
   "cell_type": "code",
   "execution_count": 87,
   "metadata": {},
   "outputs": [
    {
     "name": "stdout",
     "output_type": "stream",
     "text": [
      "[{'result': 0, 'text': \"Statistic 'subnet[830827846].pool[0].assigned-addresses' removed.\"}]\n"
     ]
    }
   ],
   "source": [
    "import requests\n",
    "\n",
    "s = requests.Session()\n",
    "s.verify = '/etc/ssl/certs'\n",
    "\n",
    "headers = {\n",
    "    'Content-Type': 'application/json',\n",
    "}\n",
    "\n",
    "\n",
    "json_data = {\n",
    "    \"command\": \"statistic-remove\",\n",
    "    'service': [\n",
    "        'dhcp4',\n",
    "    ],\n",
    "    \"arguments\": {\n",
    "        \"name\": \"subnet[830827846].pool[0].assigned-addresses\",\n",
    "        \"remote\": {\n",
    "            \"type\": \"mysql\"\n",
    "        },\n",
    "        \"server-tags\": [ \"all\" ]\n",
    "    }\n",
    "}\n",
    "\n",
    "response = s.post('https://kea.vip.com:1443/', headers=headers, json=json_data, auth=('admin', 'admin'))\n",
    "\n",
    "print(response.json())\n"
   ]
  },
  {
   "cell_type": "markdown",
   "metadata": {},
   "source": [
    "## VIEW A SPECIFIC STATISTIC --> PYKEADHCP WRAPPER"
   ]
  },
  {
   "cell_type": "code",
   "execution_count": null,
   "metadata": {},
   "outputs": [],
   "source": [
    "server.dhcp4.statistic_get('declined-addresses').arguments"
   ]
  },
  {
   "cell_type": "markdown",
   "metadata": {},
   "source": [
    "## HISTORICAL CAPTURE"
   ]
  },
  {
   "cell_type": "raw",
   "metadata": {},
   "source": [
    "{'declined-addresses': [[0, '2024-03-21 18:24:25.498958'],\n",
    "  [0, '2024-03-21 18:24:25.498391'],\n",
    "  [0, '2024-03-21 18:23:55.030129'],\n",
    "  [0, '2024-03-21 18:23:55.029559'],\n",
    "  [0, '2024-03-21 18:23:24.821550'],\n",
    "  [0, '2024-03-21 18:23:24.820964'],\n",
    "  [0, '2024-03-21 18:21:22.835156'],\n",
    "  [0, '2024-03-21 18:21:22.833899'],\n",
    "  [0, '2024-03-06 18:50:51.954897'],\n",
    "  [0, '2024-03-06 18:50:51.953657'],\n",
    "  [0, '2024-03-06 15:49:25.707280'],\n",
    "  [0, '2024-03-06 15:49:25.706093'],\n",
    "  [0, '2024-03-06 13:37:45.520131'],\n",
    "  [0, '2024-03-06 13:37:45.519364'],\n",
    "  [0, '2024-02-29 23:38:11.329068'],\n",
    "  [0, '2024-02-29 23:38:11.328467'],\n",
    "  [0, '2024-02-29 23:35:08.457116'],\n",
    "  [0, '2024-02-29 23:35:08.456549'],\n",
    "  [0, '2024-02-29 23:32:35.508531'],\n",
    "  [0, '2024-02-29 23:32:35.507923']]}"
   ]
  },
  {
   "cell_type": "markdown",
   "metadata": {},
   "source": [
    "## RESET A SPECIFIC STAT --> ALL IS ANOTHER OPTION"
   ]
  },
  {
   "cell_type": "code",
   "execution_count": 92,
   "metadata": {},
   "outputs": [
    {
     "name": "stdout",
     "output_type": "stream",
     "text": [
      "[{'result': 0, 'text': \"Statistic 'declined-addresses' reset.\"}]\n"
     ]
    }
   ],
   "source": [
    "import requests\n",
    "\n",
    "s = requests.Session()\n",
    "s.verify = '/etc/ssl/certs'\n",
    "\n",
    "headers = {\n",
    "    'Content-Type': 'application/json',\n",
    "}\n",
    "\n",
    "\n",
    "json_data = {\n",
    "    \"command\": \"statistic-reset\",\n",
    "    'service': [\n",
    "        'dhcp4',\n",
    "    ],\n",
    "    \"arguments\": {\n",
    "        \"name\": \"declined-addresses\",\n",
    "        \"remote\": {\n",
    "            \"type\": \"mysql\"\n",
    "        },\n",
    "        \"server-tags\": [ \"all\" ]\n",
    "    }\n",
    "}\n",
    "\n",
    "response = s.post('https://kea.vip.com:1443/', headers=headers, json=json_data, auth=('admin', 'admin'))\n",
    "\n",
    "print(response.json())\n"
   ]
  },
  {
   "cell_type": "markdown",
   "metadata": {},
   "source": [
    "## STATISTIC HAS BEEN RESET WITH TODAY'S DATE AS START"
   ]
  },
  {
   "cell_type": "code",
   "execution_count": 94,
   "metadata": {},
   "outputs": [
    {
     "data": {
      "text/plain": [
       "{'declined-addresses': [[0, '2024-03-26 13:54:46.852481']]}"
      ]
     },
     "execution_count": 94,
     "metadata": {},
     "output_type": "execute_result"
    }
   ],
   "source": [
    "server.dhcp4.statistic_get('declined-addresses').arguments"
   ]
  },
  {
   "cell_type": "markdown",
   "metadata": {},
   "source": [
    "### KEA HEALTH CHECKS TO BE ADDED TO DAILY REPORT  --> THESE SHOULD ALL BE ZERO"
   ]
  },
  {
   "cell_type": "markdown",
   "metadata": {},
   "source": [
    "## Explanations for all stats are listed later on"
   ]
  },
  {
   "cell_type": "code",
   "execution_count": 102,
   "metadata": {},
   "outputs": [
    {
     "data": {
      "text/plain": [
       "0"
      ]
     },
     "execution_count": 102,
     "metadata": {},
     "output_type": "execute_result"
    }
   ],
   "source": [
    "server.dhcp4.statistic_get('v4-allocation-fail').arguments['v4-allocation-fail'][0][0]"
   ]
  },
  {
   "cell_type": "code",
   "execution_count": 103,
   "metadata": {},
   "outputs": [
    {
     "data": {
      "text/plain": [
       "{'v4-allocation-fail-shared-network': [[0, '2024-02-20 14:38:57.024229']]}"
      ]
     },
     "execution_count": 103,
     "metadata": {},
     "output_type": "execute_result"
    }
   ],
   "source": [
    "server.dhcp4.statistic_get('v4-allocation-fail-shared-network').arguments"
   ]
  },
  {
   "cell_type": "code",
   "execution_count": 104,
   "metadata": {},
   "outputs": [
    {
     "data": {
      "text/plain": [
       "{'v4-allocation-fail-subnet': [[0, '2024-02-28 00:04:30.412705']]}"
      ]
     },
     "execution_count": 104,
     "metadata": {},
     "output_type": "execute_result"
    }
   ],
   "source": [
    "server.dhcp4.statistic_get('v4-allocation-fail-subnet').arguments"
   ]
  },
  {
   "cell_type": "code",
   "execution_count": 105,
   "metadata": {},
   "outputs": [
    {
     "data": {
      "text/plain": [
       "{'v4-allocation-fail-no-pools': [[0, '2024-02-28 00:05:05.329503']]}"
      ]
     },
     "execution_count": 105,
     "metadata": {},
     "output_type": "execute_result"
    }
   ],
   "source": [
    "server.dhcp4.statistic_get('v4-allocation-fail-no-pools').arguments"
   ]
  },
  {
   "cell_type": "code",
   "execution_count": 106,
   "metadata": {},
   "outputs": [
    {
     "data": {
      "text/plain": [
       "{'v4-allocation-fail-classes': [[0, '2024-02-28 00:05:47.364874']]}"
      ]
     },
     "execution_count": 106,
     "metadata": {},
     "output_type": "execute_result"
    }
   ],
   "source": [
    "server.dhcp4.statistic_get('v4-allocation-fail-classes').arguments"
   ]
  },
  {
   "cell_type": "code",
   "execution_count": 107,
   "metadata": {},
   "outputs": [
    {
     "data": {
      "text/plain": [
       "{'v4-reservation-conflicts': [[0, '2024-03-06 23:57:42.080871']]}"
      ]
     },
     "execution_count": 107,
     "metadata": {},
     "output_type": "execute_result"
    }
   ],
   "source": [
    "server.dhcp4.statistic_get('v4-reservation-conflicts').arguments"
   ]
  },
  {
   "cell_type": "code",
   "execution_count": 108,
   "metadata": {},
   "outputs": [
    {
     "data": {
      "text/plain": [
       "{'declined-addresses': [[0, '2024-03-26 13:54:46.852481']]}"
      ]
     },
     "execution_count": 108,
     "metadata": {},
     "output_type": "execute_result"
    }
   ],
   "source": [
    "server.dhcp4.statistic_get('declined-addresses').arguments"
   ]
  },
  {
   "cell_type": "code",
   "execution_count": 109,
   "metadata": {},
   "outputs": [
    {
     "data": {
      "text/plain": [
       "{'pkt4-decline-received': [[0, '2024-02-14 16:38:06.021040']]}"
      ]
     },
     "execution_count": 109,
     "metadata": {},
     "output_type": "execute_result"
    }
   ],
   "source": [
    "server.dhcp4.statistic_get('pkt4-decline-received').arguments"
   ]
  },
  {
   "cell_type": "code",
   "execution_count": 110,
   "metadata": {},
   "outputs": [
    {
     "data": {
      "text/plain": [
       "{'pkt4-parse-failed': [[0, '2023-08-02 17:22:56.720145']]}"
      ]
     },
     "execution_count": 110,
     "metadata": {},
     "output_type": "execute_result"
    }
   ],
   "source": [
    "server.dhcp4.statistic_get('pkt4-parse-failed').arguments"
   ]
  },
  {
   "cell_type": "markdown",
   "metadata": {},
   "source": [
    "## NEED TO LOOK INTO THIS STAT FURTHER"
   ]
  },
  {
   "cell_type": "code",
   "execution_count": 111,
   "metadata": {},
   "outputs": [
    {
     "data": {
      "text/plain": [
       "{'pkt4-nak-sent': [[87, '2024-03-22 04:28:57.919812'],\n",
       "  [86, '2024-03-22 04:17:42.792410'],\n",
       "  [85, '2024-03-19 15:30:20.551125'],\n",
       "  [84, '2024-03-19 15:29:42.441795'],\n",
       "  [83, '2024-03-19 15:29:03.153657'],\n",
       "  [82, '2024-03-19 15:28:25.470695'],\n",
       "  [81, '2024-03-19 15:27:47.568086'],\n",
       "  [80, '2024-03-12 11:53:21.007524'],\n",
       "  [79, '2024-03-06 19:20:10.205343'],\n",
       "  [78, '2024-03-06 18:29:40.195464'],\n",
       "  [77, '2024-03-06 18:27:29.455423'],\n",
       "  [76, '2024-03-06 15:38:48.180547'],\n",
       "  [75, '2024-03-06 15:38:43.721331'],\n",
       "  [74, '2024-03-06 15:32:47.010983'],\n",
       "  [73, '2024-03-06 15:32:44.592714'],\n",
       "  [72, '2024-03-06 14:36:11.173835'],\n",
       "  [71, '2024-03-06 14:31:10.109990'],\n",
       "  [70, '2024-03-06 14:25:40.947202'],\n",
       "  [69, '2024-03-06 14:25:13.851669'],\n",
       "  [68, '2024-03-06 14:24:32.848785']]}"
      ]
     },
     "execution_count": 111,
     "metadata": {},
     "output_type": "execute_result"
    }
   ],
   "source": [
    "server.dhcp4.statistic_get('pkt4-nak-sent').arguments"
   ]
  },
  {
   "cell_type": "markdown",
   "metadata": {},
   "source": [
    "# DHCP4 STATS"
   ]
  },
  {
   "cell_type": "markdown",
   "metadata": {},
   "source": [
    "## https://kea.readthedocs.io/en/kea-2.4.0/arm/dhcp4-srv.html#dhcp4-stats"
   ]
  },
  {
   "cell_type": "markdown",
   "metadata": {},
   "source": [
    "### Number of DHCPv4 packets received. This includes all packets: valid, bogus, corrupted, rejected, etc. "
   ]
  },
  {
   "cell_type": "code",
   "execution_count": 112,
   "metadata": {},
   "outputs": [
    {
     "data": {
      "text/plain": [
       "{'pkt4-received': [[1219593, '2024-03-26 14:00:53.388163'],\n",
       "  [1219592, '2024-03-26 14:00:53.384894'],\n",
       "  [1219591, '2024-03-26 14:00:47.569291'],\n",
       "  [1219590, '2024-03-26 14:00:44.727059'],\n",
       "  [1219589, '2024-03-26 14:00:44.588366'],\n",
       "  [1219588, '2024-03-26 14:00:44.585180'],\n",
       "  [1219587, '2024-03-26 14:00:41.070352'],\n",
       "  [1219586, '2024-03-26 14:00:37.212467'],\n",
       "  [1219585, '2024-03-26 14:00:37.209167'],\n",
       "  [1219584, '2024-03-26 14:00:28.864242'],\n",
       "  [1219583, '2024-03-26 14:00:28.861238'],\n",
       "  [1219582, '2024-03-26 14:00:25.086815'],\n",
       "  [1219581, '2024-03-26 14:00:20.922127'],\n",
       "  [1219580, '2024-03-26 14:00:20.604510'],\n",
       "  [1219579, '2024-03-26 14:00:20.601422'],\n",
       "  [1219578, '2024-03-26 14:00:17.070775'],\n",
       "  [1219577, '2024-03-26 14:00:15.065538'],\n",
       "  [1219576, '2024-03-26 14:00:13.321612'],\n",
       "  [1219575, '2024-03-26 14:00:13.100242'],\n",
       "  [1219574, '2024-03-26 14:00:13.097080']]}"
      ]
     },
     "execution_count": 112,
     "metadata": {},
     "output_type": "execute_result"
    }
   ],
   "source": [
    "server.dhcp4.statistic_get('pkt4-received').arguments"
   ]
  },
  {
   "cell_type": "markdown",
   "metadata": {},
   "source": [
    "### Number of DHCPDISCOVER packets received. its increase means that clients that just booted started their configuration process and their initial packets reached the Kea server."
   ]
  },
  {
   "cell_type": "code",
   "execution_count": 113,
   "metadata": {},
   "outputs": [
    {
     "data": {
      "text/plain": [
       "{'pkt4-discover-received': [[426965, '2024-03-26 14:01:21.322625'],\n",
       "  [426964, '2024-03-26 14:01:18.329057'],\n",
       "  [426963, '2024-03-26 14:01:09.628964'],\n",
       "  [426962, '2024-03-26 14:01:01.893338'],\n",
       "  [426961, '2024-03-26 14:00:53.384937'],\n",
       "  [426960, '2024-03-26 14:00:44.585229'],\n",
       "  [426959, '2024-03-26 14:00:41.070416'],\n",
       "  [426958, '2024-03-26 14:00:37.209218'],\n",
       "  [426957, '2024-03-26 14:00:28.861296'],\n",
       "  [426956, '2024-03-26 14:00:25.086851'],\n",
       "  [426955, '2024-03-26 14:00:20.601474'],\n",
       "  [426954, '2024-03-26 14:00:17.070815'],\n",
       "  [426953, '2024-03-26 14:00:13.321665'],\n",
       "  [426952, '2024-03-26 14:00:13.097135'],\n",
       "  [426951, '2024-03-26 14:00:04.685334'],\n",
       "  [426950, '2024-03-26 13:59:56.709008'],\n",
       "  [426949, '2024-03-26 13:59:48.561371'],\n",
       "  [426948, '2024-03-26 13:59:41.457171'],\n",
       "  [426947, '2024-03-26 13:59:33.137155'],\n",
       "  [426946, '2024-03-26 13:59:33.071259']]}"
      ]
     },
     "execution_count": 113,
     "metadata": {},
     "output_type": "execute_result"
    }
   ],
   "source": [
    "server.dhcp4.statistic_get('pkt4-discover-received').arguments"
   ]
  },
  {
   "cell_type": "markdown",
   "metadata": {},
   "source": [
    "### Number of DHCPOFFER packets received. This statistic is expected to remain zero at all times, as DHCPOFFER packets are sent by the server and the server is never expected to receive them."
   ]
  },
  {
   "cell_type": "code",
   "execution_count": 114,
   "metadata": {},
   "outputs": [
    {
     "data": {
      "text/plain": [
       "[[0, '2023-08-02 17:22:56.720144']]"
      ]
     },
     "execution_count": 114,
     "metadata": {},
     "output_type": "execute_result"
    }
   ],
   "source": [
    "server.dhcp4.statistic_get('pkt4-offer-received').arguments['pkt4-offer-received']"
   ]
  },
  {
   "cell_type": "markdown",
   "metadata": {},
   "source": [
    "### Number of DHCPREQUEST packets received. This statistic is expected to grow. Its increase means that clients that just booted received the server's response (DHCPOFFER) and accepted it, and are now requesting an address (DHCPREQUEST)."
   ]
  },
  {
   "cell_type": "code",
   "execution_count": 115,
   "metadata": {},
   "outputs": [
    {
     "data": {
      "text/plain": [
       "[[788475, '2024-03-26 14:02:22.660411'],\n",
       " [788474, '2024-03-26 14:02:20.011098'],\n",
       " [788473, '2024-03-26 14:02:19.119720'],\n",
       " [788472, '2024-03-26 14:02:14.444317'],\n",
       " [788471, '2024-03-26 14:02:09.243759'],\n",
       " [788470, '2024-03-26 14:02:07.113050'],\n",
       " [788469, '2024-03-26 14:02:06.880638'],\n",
       " [788468, '2024-03-26 14:02:05.085713'],\n",
       " [788467, '2024-03-26 14:01:59.508442'],\n",
       " [788466, '2024-03-26 14:01:56.044716'],\n",
       " [788465, '2024-03-26 14:01:56.044403'],\n",
       " [788464, '2024-03-26 14:01:51.464634'],\n",
       " [788463, '2024-03-26 14:01:43.120497'],\n",
       " [788462, '2024-03-26 14:01:42.414264'],\n",
       " [788461, '2024-03-26 14:01:35.689552'],\n",
       " [788460, '2024-03-26 14:01:35.276432'],\n",
       " [788459, '2024-03-26 14:01:33.113458'],\n",
       " [788458, '2024-03-26 14:01:26.496413'],\n",
       " [788457, '2024-03-26 14:01:26.065163'],\n",
       " [788456, '2024-03-26 14:01:25.544547']]"
      ]
     },
     "execution_count": 115,
     "metadata": {},
     "output_type": "execute_result"
    }
   ],
   "source": [
    "server.dhcp4.statistic_get('pkt4-request-received').arguments['pkt4-request-received']"
   ]
  },
  {
   "cell_type": "markdown",
   "metadata": {},
   "source": [
    "### Number of DHCPACK packets received. This statistic is expected to remain zero at all times, as DHCPACK packets are sent by the server and the server is never expected to receive them"
   ]
  },
  {
   "cell_type": "code",
   "execution_count": 116,
   "metadata": {},
   "outputs": [
    {
     "data": {
      "text/plain": [
       "[[0, '2023-08-02 17:22:56.720137']]"
      ]
     },
     "execution_count": 116,
     "metadata": {},
     "output_type": "execute_result"
    }
   ],
   "source": [
    "server.dhcp4.statistic_get('pkt4-ack-received').arguments['pkt4-ack-received']"
   ]
  },
  {
   "cell_type": "markdown",
   "metadata": {},
   "source": [
    "### This statistic is expected to remain zero at all times, as DHCPNAK packets are sent by the server and the server is never expected to receive them."
   ]
  },
  {
   "cell_type": "code",
   "execution_count": 117,
   "metadata": {},
   "outputs": [
    {
     "data": {
      "text/plain": [
       "{'pkt4-nak-received': [[0, '2023-08-02 17:22:56.720140']]}"
      ]
     },
     "execution_count": 117,
     "metadata": {},
     "output_type": "execute_result"
    }
   ],
   "source": [
    "server.dhcp4.statistic_get('pkt4-nak-received').arguments"
   ]
  },
  {
   "cell_type": "markdown",
   "metadata": {},
   "source": [
    "### Number of DHCPRELEASE packets received. This statistic is expected to grow. Its increase means that clients that had an address are shutting down or ceasing to use their addresses."
   ]
  },
  {
   "cell_type": "code",
   "execution_count": 118,
   "metadata": {},
   "outputs": [
    {
     "data": {
      "text/plain": [
       "{'pkt4-release-received': [[0, '2023-08-02 17:22:56.720147']]}"
      ]
     },
     "execution_count": 118,
     "metadata": {},
     "output_type": "execute_result"
    }
   ],
   "source": [
    "server.dhcp4.statistic_get('pkt4-release-received').arguments"
   ]
  },
  {
   "cell_type": "markdown",
   "metadata": {},
   "source": [
    "### Number of DHCPDECLINE packets received. This statistic is expected to remain close to zero. Its increase means that a client leased an address, but discovered that the address is currently used by an unknown device elsewhere in the network."
   ]
  },
  {
   "cell_type": "code",
   "execution_count": 119,
   "metadata": {},
   "outputs": [
    {
     "data": {
      "text/plain": [
       "{'pkt4-decline-received': [[0, '2024-02-14 16:38:06.021040']]}"
      ]
     },
     "execution_count": 119,
     "metadata": {},
     "output_type": "execute_result"
    }
   ],
   "source": [
    "server.dhcp4.statistic_get('pkt4-decline-received').arguments"
   ]
  },
  {
   "cell_type": "markdown",
   "metadata": {},
   "source": [
    "### Number of DHCPINFORM packets received. This statistic is expected to grow. Its increase means that there are clients that either do not need an address or already have an address and are interested only in getting additional configuration parameters."
   ]
  },
  {
   "cell_type": "code",
   "execution_count": 120,
   "metadata": {},
   "outputs": [
    {
     "data": {
      "text/plain": [
       "{'pkt4-inform-received': [[312, '2024-03-26 13:44:55.673862'],\n",
       "  [311, '2024-03-26 13:44:52.642007'],\n",
       "  [310, '2024-03-26 13:44:46.212057'],\n",
       "  [309, '2024-03-25 23:00:29.473053'],\n",
       "  [308, '2024-03-25 23:00:26.844523'],\n",
       "  [307, '2024-03-25 23:00:24.844428'],\n",
       "  [306, '2024-03-25 21:29:52.974302'],\n",
       "  [305, '2024-03-25 13:39:54.825806'],\n",
       "  [304, '2024-03-25 13:39:52.009869'],\n",
       "  [303, '2024-03-25 13:39:45.710149'],\n",
       "  [302, '2024-03-24 21:24:52.273491'],\n",
       "  [301, '2024-03-24 16:12:43.989810'],\n",
       "  [300, '2024-03-24 16:12:41.039273'],\n",
       "  [299, '2024-03-24 16:12:39.061902'],\n",
       "  [298, '2024-03-24 13:34:53.986285'],\n",
       "  [297, '2024-03-24 13:34:51.343166'],\n",
       "  [296, '2024-03-24 13:34:45.249455'],\n",
       "  [295, '2024-03-24 12:10:13.340246'],\n",
       "  [294, '2024-03-24 12:10:11.968000'],\n",
       "  [293, '2024-03-24 12:10:08.988559']]}"
      ]
     },
     "execution_count": 120,
     "metadata": {},
     "output_type": "execute_result"
    }
   ],
   "source": [
    "server.dhcp4.statistic_get('pkt4-inform-received').arguments"
   ]
  },
  {
   "cell_type": "markdown",
   "metadata": {},
   "source": [
    "### Number of packets received of an unknown type. A non-zero value of this statistic indicates that the server received a packet that it was not able to recognize, either with an unsupported type or possibly malformed (without a message-type option)."
   ]
  },
  {
   "cell_type": "code",
   "execution_count": 121,
   "metadata": {},
   "outputs": [
    {
     "data": {
      "text/plain": [
       "{'pkt4-unknown-received': [[0, '2023-08-02 17:22:56.720148']]}"
      ]
     },
     "execution_count": 121,
     "metadata": {},
     "output_type": "execute_result"
    }
   ],
   "source": [
    "server.dhcp4.statistic_get('pkt4-unknown-received').arguments"
   ]
  },
  {
   "cell_type": "markdown",
   "metadata": {},
   "source": [
    "### Number of DHCPv4 packets sent. This statistic is expected to grow every time the server transmits a packet. In general, it should roughly match pkt4-received, as most incoming packets cause the server to respond. There are exceptions (e.g. DHCPRELEASE), so do not worry if it is less than pkt4-received."
   ]
  },
  {
   "cell_type": "code",
   "execution_count": 122,
   "metadata": {},
   "outputs": [
    {
     "data": {
      "text/plain": [
       "{'pkt4-sent': [[1208843, '2024-03-26 14:06:49.951254'],\n",
       "  [1208842, '2024-03-26 14:06:44.789689'],\n",
       "  [1208841, '2024-03-26 14:06:44.786332'],\n",
       "  [1208840, '2024-03-26 14:06:39.625152'],\n",
       "  [1208839, '2024-03-26 14:06:36.905935'],\n",
       "  [1208838, '2024-03-26 14:06:36.901920'],\n",
       "  [1208837, '2024-03-26 14:06:30.675745'],\n",
       "  [1208836, '2024-03-26 14:06:30.659619'],\n",
       "  [1208835, '2024-03-26 14:06:29.829928'],\n",
       "  [1208834, '2024-03-26 14:06:29.826107'],\n",
       "  [1208833, '2024-03-26 14:06:28.708100'],\n",
       "  [1208832, '2024-03-26 14:06:23.499442'],\n",
       "  [1208831, '2024-03-26 14:06:23.236031'],\n",
       "  [1208830, '2024-03-26 14:06:21.430209'],\n",
       "  [1208829, '2024-03-26 14:06:21.426661'],\n",
       "  [1208828, '2024-03-26 14:06:21.123362'],\n",
       "  [1208827, '2024-03-26 14:06:20.148493'],\n",
       "  [1208826, '2024-03-26 14:06:17.928116'],\n",
       "  [1208825, '2024-03-26 14:06:17.808494'],\n",
       "  [1208824, '2024-03-26 14:06:16.446079']]}"
      ]
     },
     "execution_count": 122,
     "metadata": {},
     "output_type": "execute_result"
    }
   ],
   "source": [
    "server.dhcp4.statistic_get('pkt4-sent').arguments"
   ]
  },
  {
   "cell_type": "markdown",
   "metadata": {},
   "source": [
    "### Number of DHCPOFFER packets sent. This statistic is expected to grow in most cases after a DHCPDISCOVER is processed. There are certain uncommon, but valid, cases where incoming DHCPDISCOVER packets are dropped, but in general this statistic is expected to be close to pkt4-discover-received."
   ]
  },
  {
   "cell_type": "code",
   "execution_count": 123,
   "metadata": {},
   "outputs": [
    {
     "data": {
      "text/plain": [
       "{'pkt4-offer-sent': [[420301, '2024-03-26 14:07:09.289867'],\n",
       "  [420300, '2024-03-26 14:07:05.120022'],\n",
       "  [420299, '2024-03-26 14:07:02.157756'],\n",
       "  [420298, '2024-03-26 14:07:01.320282'],\n",
       "  [420297, '2024-03-26 14:06:53.586049'],\n",
       "  [420296, '2024-03-26 14:06:44.786334'],\n",
       "  [420295, '2024-03-26 14:06:36.901922'],\n",
       "  [420294, '2024-03-26 14:06:29.826109'],\n",
       "  [420293, '2024-03-26 14:06:21.426663'],\n",
       "  [420292, '2024-03-26 14:06:21.123363'],\n",
       "  [420291, '2024-03-26 14:06:13.554167'],\n",
       "  [420290, '2024-03-26 14:06:06.110007'],\n",
       "  [420289, '2024-03-26 14:06:05.084902'],\n",
       "  [420288, '2024-03-26 14:05:57.906420'],\n",
       "  [420287, '2024-03-26 14:05:57.120676'],\n",
       "  [420286, '2024-03-26 14:05:53.319925'],\n",
       "  [420285, '2024-03-26 14:05:51.030205'],\n",
       "  [420284, '2024-03-26 14:05:42.902241'],\n",
       "  [420283, '2024-03-26 14:05:34.877972'],\n",
       "  [420282, '2024-03-26 14:05:26.125748']]}"
      ]
     },
     "execution_count": 123,
     "metadata": {},
     "output_type": "execute_result"
    }
   ],
   "source": [
    "server.dhcp4.statistic_get('pkt4-offer-sent').arguments"
   ]
  },
  {
   "cell_type": "markdown",
   "metadata": {},
   "source": [
    "### Number of DHCPACK packets sent. This statistic is expected to grow in most cases after a DHCPREQUEST is processed. There are certain cases where DHCPNAK is sent instead. In general, the sum of pkt4-ack-sent and pkt4-nak-sent should be close to pkt4-request-received."
   ]
  },
  {
   "cell_type": "code",
   "execution_count": 124,
   "metadata": {},
   "outputs": [
    {
     "data": {
      "text/plain": [
       "{'pkt4-ack-sent': [[788387, '2024-03-26 14:07:28.142128'],\n",
       "  [788386, '2024-03-26 14:07:26.122066'],\n",
       "  [788385, '2024-03-26 14:07:23.728013'],\n",
       "  [788384, '2024-03-26 14:07:23.715225'],\n",
       "  [788383, '2024-03-26 14:07:17.862253'],\n",
       "  [788382, '2024-03-26 14:07:09.294991'],\n",
       "  [788381, '2024-03-26 14:07:08.718989'],\n",
       "  [788380, '2024-03-26 14:07:08.700219'],\n",
       "  [788379, '2024-03-26 14:07:02.161659'],\n",
       "  [788378, '2024-03-26 14:06:53.589924'],\n",
       "  [788377, '2024-03-26 14:06:49.951255'],\n",
       "  [788376, '2024-03-26 14:06:44.789690'],\n",
       "  [788375, '2024-03-26 14:06:39.625154'],\n",
       "  [788374, '2024-03-26 14:06:36.905937'],\n",
       "  [788373, '2024-03-26 14:06:30.675746'],\n",
       "  [788372, '2024-03-26 14:06:30.659620'],\n",
       "  [788371, '2024-03-26 14:06:29.829928'],\n",
       "  [788370, '2024-03-26 14:06:28.708102'],\n",
       "  [788369, '2024-03-26 14:06:23.499445'],\n",
       "  [788368, '2024-03-26 14:06:23.236031']]}"
      ]
     },
     "execution_count": 124,
     "metadata": {},
     "output_type": "execute_result"
    }
   ],
   "source": [
    "server.dhcp4.statistic_get('pkt4-ack-sent').arguments"
   ]
  },
  {
   "cell_type": "markdown",
   "metadata": {},
   "source": [
    "### Number of DHCPNAK packets sent. This statistic is expected to grow when the server chooses not to honor the address requested by a client. In general, the sum of pkt4-ack-sent and pkt4-nak-sent should be close to pkt4-request-received."
   ]
  },
  {
   "cell_type": "code",
   "execution_count": 125,
   "metadata": {},
   "outputs": [
    {
     "data": {
      "text/plain": [
       "{'pkt4-nak-sent': [[87, '2024-03-22 04:28:57.919812'],\n",
       "  [86, '2024-03-22 04:17:42.792410'],\n",
       "  [85, '2024-03-19 15:30:20.551125'],\n",
       "  [84, '2024-03-19 15:29:42.441795'],\n",
       "  [83, '2024-03-19 15:29:03.153657'],\n",
       "  [82, '2024-03-19 15:28:25.470695'],\n",
       "  [81, '2024-03-19 15:27:47.568086'],\n",
       "  [80, '2024-03-12 11:53:21.007524'],\n",
       "  [79, '2024-03-06 19:20:10.205343'],\n",
       "  [78, '2024-03-06 18:29:40.195464'],\n",
       "  [77, '2024-03-06 18:27:29.455423'],\n",
       "  [76, '2024-03-06 15:38:48.180547'],\n",
       "  [75, '2024-03-06 15:38:43.721331'],\n",
       "  [74, '2024-03-06 15:32:47.010983'],\n",
       "  [73, '2024-03-06 15:32:44.592714'],\n",
       "  [72, '2024-03-06 14:36:11.173835'],\n",
       "  [71, '2024-03-06 14:31:10.109990'],\n",
       "  [70, '2024-03-06 14:25:40.947202'],\n",
       "  [69, '2024-03-06 14:25:13.851669'],\n",
       "  [68, '2024-03-06 14:24:32.848785']]}"
      ]
     },
     "execution_count": 125,
     "metadata": {},
     "output_type": "execute_result"
    }
   ],
   "source": [
    "server.dhcp4.statistic_get('pkt4-nak-sent').arguments"
   ]
  },
  {
   "cell_type": "markdown",
   "metadata": {},
   "source": [
    "### Number of incoming packets that could not be parsed. A non-zero value of this statistic indicates that the server received a malformed or truncated packet. This may indicate problems in the network, faulty clients, or a bug in the server."
   ]
  },
  {
   "cell_type": "code",
   "execution_count": 127,
   "metadata": {},
   "outputs": [
    {
     "data": {
      "text/plain": [
       "{'pkt4-parse-failed': [[0, '2023-08-02 17:22:56.720145']]}"
      ]
     },
     "execution_count": 127,
     "metadata": {},
     "output_type": "execute_result"
    }
   ],
   "source": [
    "server.dhcp4.statistic_get('pkt4-parse-failed').arguments"
   ]
  },
  {
   "cell_type": "markdown",
   "metadata": {},
   "source": [
    "### Number of incoming packets that were dropped. The exact reason for dropping packets is logged, but the most common reasons may be: an unacceptable packet type was received, direct responses are forbidden, or the server-id sent by the client does not match the server's server-id."
   ]
  },
  {
   "cell_type": "code",
   "execution_count": 128,
   "metadata": {},
   "outputs": [
    {
     "data": {
      "text/plain": [
       "{'pkt4-receive-drop': [[958, '2024-01-16 22:43:02.425114'],\n",
       "  [957, '2024-01-16 22:43:02.424834'],\n",
       "  [956, '2024-01-16 22:41:57.982748'],\n",
       "  [955, '2024-01-16 22:41:57.982410'],\n",
       "  [954, '2024-01-16 22:40:54.477787'],\n",
       "  [953, '2024-01-16 22:40:54.477442'],\n",
       "  [952, '2024-01-16 22:39:49.485739'],\n",
       "  [951, '2024-01-16 22:39:49.485502'],\n",
       "  [950, '2024-01-16 22:38:46.165855'],\n",
       "  [949, '2024-01-16 22:38:46.165437'],\n",
       "  [948, '2024-01-16 22:37:41.090004'],\n",
       "  [947, '2024-01-16 22:37:41.089698'],\n",
       "  [946, '2024-01-16 22:36:38.029413'],\n",
       "  [945, '2024-01-16 22:36:38.029239'],\n",
       "  [944, '2024-01-16 22:35:34.014397'],\n",
       "  [943, '2024-01-16 22:35:34.014384'],\n",
       "  [942, '2024-01-16 22:34:29.200952'],\n",
       "  [941, '2024-01-16 22:34:29.200781'],\n",
       "  [940, '2024-01-16 22:33:26.166854'],\n",
       "  [939, '2024-01-16 22:33:26.166552']]}"
      ]
     },
     "execution_count": 128,
     "metadata": {},
     "output_type": "execute_result"
    }
   ],
   "source": [
    "server.dhcp4.statistic_get('pkt4-receive-drop').arguments"
   ]
  },
  {
   "cell_type": "markdown",
   "metadata": {},
   "source": [
    "### Number of IPv4 addresses that are currently declined; a count of the number of leases currently unavailable. Once a lease is recovered, this statistic is decreased; ideally, this statistic should be zero. If this statistic is non-zero or increasing, a network administrator should investigate whether there is a misbehaving device in the network. This is a global statistic that covers all subnets."
   ]
  },
  {
   "cell_type": "code",
   "execution_count": 129,
   "metadata": {},
   "outputs": [
    {
     "data": {
      "text/plain": [
       "{'declined-addresses': [[0, '2024-03-26 13:54:46.852481']]}"
      ]
     },
     "execution_count": 129,
     "metadata": {},
     "output_type": "execute_result"
    }
   ],
   "source": [
    "server.dhcp4.statistic_get('declined-addresses').arguments"
   ]
  },
  {
   "cell_type": "markdown",
   "metadata": {},
   "source": [
    "### Number of expired leases that have been reclaimed since server startup. It is incremented each time an expired lease is reclaimed and never decreases. It can be used as a long-term indicator of how many actual leases have been reclaimed. This is a global statistic that covers all subnets."
   ]
  },
  {
   "cell_type": "code",
   "execution_count": 130,
   "metadata": {},
   "outputs": [
    {
     "data": {
      "text/plain": [
       "{'reclaimed-leases': [[1265, '2024-03-26 13:48:25.638605'],\n",
       "  [1264, '2024-03-26 13:32:38.082330'],\n",
       "  [1263, '2024-03-26 12:48:40.037714'],\n",
       "  [1262, '2024-03-26 11:48:37.637771'],\n",
       "  [1261, '2024-03-26 11:34:50.898716'],\n",
       "  [1260, '2024-03-26 11:34:44.893777'],\n",
       "  [1259, '2024-03-26 10:34:48.810777'],\n",
       "  [1258, '2024-03-26 05:38:06.403972'],\n",
       "  [1257, '2024-03-26 02:36:11.946199'],\n",
       "  [1256, '2024-03-25 23:03:42.863759'],\n",
       "  [1255, '2024-03-25 21:43:53.715378'],\n",
       "  [1254, '2024-03-25 21:42:20.627003'],\n",
       "  [1253, '2024-03-25 19:43:16.157349'],\n",
       "  [1252, '2024-03-25 17:36:43.452473'],\n",
       "  [1251, '2024-03-25 16:54:24.310484'],\n",
       "  [1250, '2024-03-25 16:35:36.801983'],\n",
       "  [1249, '2024-03-25 16:32:49.614517'],\n",
       "  [1248, '2024-03-25 15:37:14.113594'],\n",
       "  [1247, '2024-03-25 11:49:42.398269'],\n",
       "  [1246, '2024-03-25 10:43:39.891660']]}"
      ]
     },
     "execution_count": 130,
     "metadata": {},
     "output_type": "execute_result"
    }
   ],
   "source": [
    "server.dhcp4.statistic_get('reclaimed-leases').arguments"
   ]
  },
  {
   "cell_type": "markdown",
   "metadata": {},
   "source": [
    "### Number of expired leases associated with a given subnet that have been reclaimed since server startup. It is incremented each time an expired lease is reclaimed. The id is the subnet-id of a given subnet. This statistic is exposed for each subnet separately."
   ]
  },
  {
   "cell_type": "code",
   "execution_count": 131,
   "metadata": {},
   "outputs": [
    {
     "data": {
      "text/plain": [
       "{'subnet[96].reclaimed-leases': [[3, '2024-03-26 12:48:40.037703'],\n",
       "  [2, '2024-03-26 11:48:37.637757'],\n",
       "  [1, '2024-03-26 11:34:44.893725'],\n",
       "  [0, '2024-03-21 18:24:25.498642']]}"
      ]
     },
     "execution_count": 131,
     "metadata": {},
     "output_type": "execute_result"
    }
   ],
   "source": [
    "server.dhcp4.statistic_get('subnet[96].reclaimed-leases').arguments"
   ]
  },
  {
   "cell_type": "markdown",
   "metadata": {},
   "source": [
    "### Number of expired leases associated with a given subnet pool that have been reclaimed since server startup. It is incremented each time an expired lease is reclaimed. The id is the subnet-id of a given subnet. The pid is the pool-id of the pool. This statistic is exposed for each subnet pool separately."
   ]
  },
  {
   "cell_type": "code",
   "execution_count": 132,
   "metadata": {},
   "outputs": [
    {
     "data": {
      "text/plain": [
       "{'subnet[96].pool[0].reclaimed-leases': [[3, '2024-03-26 12:48:40.037712'],\n",
       "  [2, '2024-03-26 11:48:37.637768'],\n",
       "  [1, '2024-03-26 11:34:44.893773'],\n",
       "  [0, '2024-03-21 18:24:25.498651']]}"
      ]
     },
     "execution_count": 132,
     "metadata": {},
     "output_type": "execute_result"
    }
   ],
   "source": [
    "server.dhcp4.statistic_get('subnet[96].pool[0].reclaimed-leases').arguments"
   ]
  },
  {
   "cell_type": "markdown",
   "metadata": {},
   "source": [
    "### Number of IPv4 addresses that were declined, but have now been recovered. Unlike declined-addresses, this statistic never decreases. It can be used as a long-term indicator of how many actual valid declines were processed and recovered from. This is a global statistic that covers all subnets."
   ]
  },
  {
   "cell_type": "code",
   "execution_count": 133,
   "metadata": {},
   "outputs": [
    {
     "data": {
      "text/plain": [
       "{'reclaimed-declined-addresses': [[0, '2024-02-14 16:34:13.806339']]}"
      ]
     },
     "execution_count": 133,
     "metadata": {},
     "output_type": "execute_result"
    }
   ],
   "source": [
    "server.dhcp4.statistic_get('reclaimed-declined-addresses').arguments"
   ]
  },
  {
   "cell_type": "markdown",
   "metadata": {},
   "source": [
    "### Number of IPv4 addresses that were declined, but have now been recovered. Unlike declined-addresses, this statistic never decreases. It can be used as a long-term indicator of how many actual valid declines were processed and recovered from. The id is the subnet-id of a given subnet. This statistic is exposed for each subnet separately."
   ]
  },
  {
   "cell_type": "code",
   "execution_count": 134,
   "metadata": {},
   "outputs": [
    {
     "data": {
      "text/plain": [
       "{'subnet[96].reclaimed-declined-addresses': [[0,\n",
       "   '2024-03-21 18:24:25.498641']]}"
      ]
     },
     "execution_count": 134,
     "metadata": {},
     "output_type": "execute_result"
    }
   ],
   "source": [
    "server.dhcp4.statistic_get('subnet[96].reclaimed-declined-addresses').arguments"
   ]
  },
  {
   "cell_type": "markdown",
   "metadata": {},
   "source": [
    "### Number of IPv4 addresses that were declined, but have now been recovered. Unlike declined-addresses, this statistic never decreases. It can be used as a long-term indicator of how many actual valid declines were processed and recovered from. The id is the subnet-id of a given subnet. The pid is the pool-id of the pool. This statistic is exposed for each subnet pool separately."
   ]
  },
  {
   "cell_type": "code",
   "execution_count": 135,
   "metadata": {},
   "outputs": [
    {
     "data": {
      "text/plain": [
       "{'subnet[96].pool[0].reclaimed-declined-addresses': [[0,\n",
       "   '2024-03-21 18:24:25.498649']]}"
      ]
     },
     "execution_count": 135,
     "metadata": {},
     "output_type": "execute_result"
    }
   ],
   "source": [
    "server.dhcp4.statistic_get('subnet[96].pool[0].reclaimed-declined-addresses').arguments"
   ]
  },
  {
   "cell_type": "markdown",
   "metadata": {},
   "source": [
    "### Cumulative number of addresses that have been assigned since server startup. It is incremented each time an address is assigned and is not reset when the server is reconfigured."
   ]
  },
  {
   "cell_type": "code",
   "execution_count": 136,
   "metadata": {},
   "outputs": [
    {
     "data": {
      "text/plain": [
       "{'cumulative-assigned-addresses': [[1302, '2024-03-26 13:32:47.930748'],\n",
       "  [1301, '2024-03-26 12:52:49.179708'],\n",
       "  [1300, '2024-03-26 11:34:50.898993'],\n",
       "  [1299, '2024-03-26 10:34:48.811851'],\n",
       "  [1298, '2024-03-26 09:28:43.469442'],\n",
       "  [1297, '2024-03-26 05:38:36.351872'],\n",
       "  [1296, '2024-03-26 02:36:12.985808'],\n",
       "  [1295, '2024-03-26 00:36:59.032453'],\n",
       "  [1294, '2024-03-25 21:42:23.635182'],\n",
       "  [1293, '2024-03-25 19:45:49.460533'],\n",
       "  [1292, '2024-03-25 19:43:33.492460'],\n",
       "  [1291, '2024-03-25 16:55:16.494010'],\n",
       "  [1290, '2024-03-25 16:55:15.439437'],\n",
       "  [1289, '2024-03-25 16:55:15.421227'],\n",
       "  [1288, '2024-03-25 15:37:21.986760'],\n",
       "  [1287, '2024-03-25 11:49:48.794365'],\n",
       "  [1286, '2024-03-25 10:43:27.861352'],\n",
       "  [1285, '2024-03-25 10:12:30.857336'],\n",
       "  [1284, '2024-03-25 10:10:29.586864'],\n",
       "  [1283, '2024-03-25 10:10:23.201519']]}"
      ]
     },
     "execution_count": 136,
     "metadata": {},
     "output_type": "execute_result"
    }
   ],
   "source": [
    "server.dhcp4.statistic_get('cumulative-assigned-addresses').arguments"
   ]
  },
  {
   "cell_type": "markdown",
   "metadata": {},
   "source": [
    "### Cumulative number of assigned addresses in a given subnet. It increases every time a new lease is allocated (as a result of receiving a DHCPREQUEST message) and never decreases. The id is the subnet-id of the subnet. This statistic is exposed for each subnet separately, and is reset during a reconfiguration event."
   ]
  },
  {
   "cell_type": "code",
   "execution_count": 137,
   "metadata": {},
   "outputs": [
    {
     "data": {
      "text/plain": [
       "{'subnet[96].cumulative-assigned-addresses': [[1,\n",
       "   '2024-03-26 12:52:49.179700'],\n",
       "  [0, '2024-03-21 18:24:25.498071']]}"
      ]
     },
     "execution_count": 137,
     "metadata": {},
     "output_type": "execute_result"
    }
   ],
   "source": [
    "server.dhcp4.statistic_get('subnet[96].cumulative-assigned-addresses').arguments"
   ]
  },
  {
   "cell_type": "markdown",
   "metadata": {},
   "source": [
    "### Cumulative number of assigned addresses in a given subnet pool. It increases every time a new lease is allocated (as a result of receiving a DHCPREQUEST message) and never decreases. The id is the subnet-id of the subnet. The pid is the pool-id of the pool. This statistic is exposed for each subnet pool separately, and is reset during a reconfiguration event."
   ]
  },
  {
   "cell_type": "code",
   "execution_count": 138,
   "metadata": {},
   "outputs": [
    {
     "data": {
      "text/plain": [
       "{'subnet[96].pool[0].cumulative-assigned-addresses': [[1,\n",
       "   '2024-03-26 12:52:49.179706'],\n",
       "  [0, '2024-03-21 18:24:25.498077']]}"
      ]
     },
     "execution_count": 138,
     "metadata": {},
     "output_type": "execute_result"
    }
   ],
   "source": [
    "server.dhcp4.statistic_get('subnet[96].pool[0].cumulative-assigned-addresses').arguments"
   ]
  },
  {
   "cell_type": "markdown",
   "metadata": {},
   "source": [
    "### Number of assigned addresses in a given subnet. It increases every time a new lease is allocated (as a result of receiving a DHCPREQUEST message) and decreases every time a lease is released (a DHCPRELEASE message is received) or expires. The id is the subnet-id of the subnet. This statistic is exposed for each subnet separately, and is reset during a reconfiguration event."
   ]
  },
  {
   "cell_type": "code",
   "execution_count": 139,
   "metadata": {},
   "outputs": [
    {
     "data": {
      "text/plain": [
       "{'subnet[96].assigned-addresses': [[24, '2024-03-26 12:52:49.179698'],\n",
       "  [23, '2024-03-26 12:48:40.037700'],\n",
       "  [24, '2024-03-26 11:48:37.637732'],\n",
       "  [25, '2024-03-26 11:34:44.893676'],\n",
       "  [26, '2024-03-21 18:24:25.498949'],\n",
       "  [0, '2024-03-21 18:24:25.498638']]}"
      ]
     },
     "execution_count": 139,
     "metadata": {},
     "output_type": "execute_result"
    }
   ],
   "source": [
    "server.dhcp4.statistic_get('subnet[96].assigned-addresses').arguments"
   ]
  },
  {
   "cell_type": "markdown",
   "metadata": {},
   "source": [
    "### Number of assigned addresses in a given subnet pool. It increases every time a new lease is allocated (as a result of receiving a DHCPREQUEST message) and decreases every time a lease is released (a DHCPRELEASE message is received) or expires. The id is the subnet-id of the subnet. The pid is the pool-id of the pool. This statistic is exposed for each subnet pool separately, and is reset during a reconfiguration event."
   ]
  },
  {
   "cell_type": "code",
   "execution_count": 140,
   "metadata": {},
   "outputs": [
    {
     "data": {
      "text/plain": [
       "{'subnet[96].pool[0].assigned-addresses': [[24, '2024-03-26 12:52:49.179704'],\n",
       "  [23, '2024-03-26 12:48:40.037708'],\n",
       "  [24, '2024-03-26 11:48:37.637765'],\n",
       "  [25, '2024-03-26 11:34:44.893768'],\n",
       "  [26, '2024-03-21 18:24:25.499140'],\n",
       "  [0, '2024-03-21 18:24:25.498645']]}"
      ]
     },
     "execution_count": 140,
     "metadata": {},
     "output_type": "execute_result"
    }
   ],
   "source": [
    "server.dhcp4.statistic_get('subnet[96].pool[0].assigned-addresses').arguments"
   ]
  },
  {
   "cell_type": "markdown",
   "metadata": {},
   "source": [
    "### Total number of addresses available for DHCPv4 management for a given subnet; in other words, this is the count of all addresses in all configured pools. This statistic changes only during configuration updates. It does not take into account any addresses that may be reserved due to host reservation. The id is the the subnet-id of a given subnet. This statistic is exposed for each subnet separately, and is reset during a reconfiguration event."
   ]
  },
  {
   "cell_type": "code",
   "execution_count": 141,
   "metadata": {},
   "outputs": [
    {
     "data": {
      "text/plain": [
       "{'subnet[96].total-addresses': [[59, '2024-03-21 18:24:25.498069']]}"
      ]
     },
     "execution_count": 141,
     "metadata": {},
     "output_type": "execute_result"
    }
   ],
   "source": [
    "server.dhcp4.statistic_get('subnet[96].total-addresses').arguments"
   ]
  },
  {
   "cell_type": "markdown",
   "metadata": {},
   "source": [
    "### Total number of addresses available for DHCPv4 management for a given subnet pool; in other words, this is the count of all addresses in configured subnet pool. This statistic changes only during configuration updates. It does not take into account any addresses that may be reserved due to host reservation. The id is the subnet-id of a given subnet. The pid is the pool-id of a given pool. This statistic is exposed for each subnet pool separately, and is reset during a reconfiguration event."
   ]
  },
  {
   "cell_type": "code",
   "execution_count": 142,
   "metadata": {},
   "outputs": [
    {
     "data": {
      "text/plain": [
       "{'subnet[96].pool[0].total-addresses': [[59, '2024-03-21 18:24:25.498074']]}"
      ]
     },
     "execution_count": 142,
     "metadata": {},
     "output_type": "execute_result"
    }
   ],
   "source": [
    "server.dhcp4.statistic_get('subnet[96].pool[0].total-addresses').arguments"
   ]
  },
  {
   "cell_type": "markdown",
   "metadata": {},
   "source": [
    "### Number of total address allocation failures for a particular client. This consists in the number of lease allocation attempts that the server made before giving up and was unable to use any of the address pools. This is a global statistic that covers all subnets."
   ]
  },
  {
   "cell_type": "code",
   "execution_count": 143,
   "metadata": {},
   "outputs": [
    {
     "data": {
      "text/plain": [
       "{'v4-allocation-fail': [[0, '2024-02-20 14:38:23.870031']]}"
      ]
     },
     "execution_count": 143,
     "metadata": {},
     "output_type": "execute_result"
    }
   ],
   "source": [
    "server.dhcp4.statistic_get('v4-allocation-fail').arguments"
   ]
  },
  {
   "cell_type": "markdown",
   "metadata": {},
   "source": [
    "### Number of total address allocation failures for a particular client. This consists in the number of lease allocation attempts that the server made before giving up and was unable to use any of the address pools. The id is the subnet-id of a given subnet. This statistic is exposed for each subnet separately."
   ]
  },
  {
   "cell_type": "code",
   "execution_count": 144,
   "metadata": {},
   "outputs": [
    {
     "data": {
      "text/plain": [
       "{'subnet[188].v4-allocation-fail': [[496, '2024-02-12 16:08:09.627076'],\n",
       "  [495, '2024-02-12 16:08:06.616706'],\n",
       "  [494, '2024-02-12 16:07:43.468664'],\n",
       "  [493, '2024-02-12 16:07:40.458190'],\n",
       "  [492, '2024-02-12 16:07:37.449291'],\n",
       "  [491, '2024-02-12 16:07:14.260946'],\n",
       "  [490, '2024-02-12 16:07:11.249552'],\n",
       "  [489, '2024-02-12 16:07:08.241153'],\n",
       "  [488, '2024-02-12 16:06:45.078985'],\n",
       "  [487, '2024-02-12 16:06:42.068688'],\n",
       "  [486, '2024-02-12 16:06:39.061893'],\n",
       "  [485, '2024-02-12 16:06:15.912378'],\n",
       "  [484, '2024-02-12 16:06:12.901424'],\n",
       "  [483, '2024-02-12 16:06:09.890417'],\n",
       "  [482, '2024-02-12 16:05:46.681209'],\n",
       "  [481, '2024-02-12 16:05:43.672571'],\n",
       "  [480, '2024-02-12 16:05:40.658101'],\n",
       "  [479, '2024-02-12 16:05:40.058632'],\n",
       "  [478, '2024-02-12 16:05:37.056101'],\n",
       "  [477, '2024-02-12 16:04:54.889707']]}"
      ]
     },
     "execution_count": 144,
     "metadata": {},
     "output_type": "execute_result"
    }
   ],
   "source": [
    "server.dhcp4.statistic_get('subnet[188].v4-allocation-fail').arguments"
   ]
  },
  {
   "cell_type": "markdown",
   "metadata": {},
   "source": [
    "### Number of address allocation failures for a particular client connected to a shared network. This is a global statistic that covers all subnets."
   ]
  },
  {
   "cell_type": "code",
   "execution_count": 146,
   "metadata": {},
   "outputs": [
    {
     "data": {
      "text/plain": [
       "{'v4-allocation-fail-shared-network': [[0, '2024-02-20 14:38:57.024229']]}"
      ]
     },
     "execution_count": 146,
     "metadata": {},
     "output_type": "execute_result"
    }
   ],
   "source": [
    "server.dhcp4.statistic_get('v4-allocation-fail-shared-network').arguments"
   ]
  },
  {
   "cell_type": "markdown",
   "metadata": {},
   "source": [
    "### Number of address allocation failures for a particular client connected to a shared network. The id is the subnet-id of a given subnet. This statistic is exposed for each subnet separately."
   ]
  },
  {
   "cell_type": "code",
   "execution_count": 147,
   "metadata": {},
   "outputs": [
    {
     "data": {
      "text/plain": [
       "{'subnet[188].v4-allocation-fail-shared-network': [[496,\n",
       "   '2024-02-12 16:08:09.627060'],\n",
       "  [495, '2024-02-12 16:08:06.616687'],\n",
       "  [494, '2024-02-12 16:07:43.468648'],\n",
       "  [493, '2024-02-12 16:07:40.458174'],\n",
       "  [492, '2024-02-12 16:07:37.449273'],\n",
       "  [491, '2024-02-12 16:07:14.260929'],\n",
       "  [490, '2024-02-12 16:07:11.249535'],\n",
       "  [489, '2024-02-12 16:07:08.241135'],\n",
       "  [488, '2024-02-12 16:06:45.078969'],\n",
       "  [487, '2024-02-12 16:06:42.068673'],\n",
       "  [486, '2024-02-12 16:06:39.061875'],\n",
       "  [485, '2024-02-12 16:06:15.912362'],\n",
       "  [484, '2024-02-12 16:06:12.901409'],\n",
       "  [483, '2024-02-12 16:06:09.889598'],\n",
       "  [482, '2024-02-12 16:05:46.681191'],\n",
       "  [481, '2024-02-12 16:05:43.672552'],\n",
       "  [480, '2024-02-12 16:05:40.658086'],\n",
       "  [479, '2024-02-12 16:05:40.058614'],\n",
       "  [478, '2024-02-12 16:05:37.056082'],\n",
       "  [477, '2024-02-12 16:04:54.889690']]}"
      ]
     },
     "execution_count": 147,
     "metadata": {},
     "output_type": "execute_result"
    }
   ],
   "source": [
    "server.dhcp4.statistic_get('subnet[188].v4-allocation-fail-shared-network').arguments"
   ]
  },
  {
   "cell_type": "markdown",
   "metadata": {},
   "source": [
    "### Number of address allocation failures for a particular client connected to a subnet that does not belong to a shared network. This is a global statistic that covers all subnets."
   ]
  },
  {
   "cell_type": "code",
   "execution_count": 148,
   "metadata": {},
   "outputs": [
    {
     "data": {
      "text/plain": [
       "{'v4-allocation-fail-subnet': [[0, '2024-02-28 00:04:30.412705']]}"
      ]
     },
     "execution_count": 148,
     "metadata": {},
     "output_type": "execute_result"
    }
   ],
   "source": [
    "server.dhcp4.statistic_get('v4-allocation-fail-subnet').arguments"
   ]
  },
  {
   "cell_type": "markdown",
   "metadata": {},
   "source": [
    "### Number of address allocation failures for a particular client connected to a subnet that does not belong to a shared network. The id is the subnet-id of a given subnet. This statistic is exposed for each subnet separately."
   ]
  },
  {
   "cell_type": "code",
   "execution_count": 149,
   "metadata": {},
   "outputs": [
    {
     "data": {
      "text/plain": [
       "{'subnet[69].v4-allocation-fail-subnet': [[40153,\n",
       "   '2024-02-12 19:10:49.491393'],\n",
       "  [40152, '2024-02-12 19:10:47.480658'],\n",
       "  [40151, '2024-02-12 19:10:46.634840'],\n",
       "  [40150, '2024-02-12 19:10:43.628444'],\n",
       "  [40149, '2024-02-12 19:10:40.618879'],\n",
       "  [40148, '2024-02-12 19:10:37.608154'],\n",
       "  [40147, '2024-02-12 19:10:37.378909'],\n",
       "  [40146, '2024-02-12 19:10:29.630630'],\n",
       "  [40145, '2024-02-12 19:10:23.892511'],\n",
       "  [40144, '2024-02-12 19:10:20.882281'],\n",
       "  [40143, '2024-02-12 19:10:17.872383'],\n",
       "  [40142, '2024-02-12 19:10:16.862393'],\n",
       "  [40141, '2024-02-12 19:10:14.339828'],\n",
       "  [40140, '2024-02-12 19:10:11.329715'],\n",
       "  [40139, '2024-02-12 19:10:08.319921'],\n",
       "  [40138, '2024-02-12 19:10:07.315927'],\n",
       "  [40137, '2024-02-12 19:10:03.346361'],\n",
       "  [40136, '2024-02-12 19:09:55.043248'],\n",
       "  [40135, '2024-02-12 19:09:52.033153'],\n",
       "  [40134, '2024-02-12 19:09:49.022974']]}"
      ]
     },
     "execution_count": 149,
     "metadata": {},
     "output_type": "execute_result"
    }
   ],
   "source": [
    "server.dhcp4.statistic_get('subnet[69].v4-allocation-fail-subnet').arguments"
   ]
  },
  {
   "cell_type": "markdown",
   "metadata": {},
   "source": [
    "### Number of address allocation failures because the server could not use any configured pools for a particular client. It is also possible that all of the subnets from which the server attempted to assign an address lack address pools. In this case, it should be considered misconfiguration if an operator expects that some clients should be assigned dynamic addresses. This is a global statistic that covers all subnets."
   ]
  },
  {
   "cell_type": "code",
   "execution_count": 150,
   "metadata": {},
   "outputs": [
    {
     "data": {
      "text/plain": [
       "{'v4-allocation-fail-no-pools': [[0, '2024-02-28 00:05:05.329503']]}"
      ]
     },
     "execution_count": 150,
     "metadata": {},
     "output_type": "execute_result"
    }
   ],
   "source": [
    "server.dhcp4.statistic_get('v4-allocation-fail-no-pools').arguments"
   ]
  },
  {
   "cell_type": "markdown",
   "metadata": {},
   "source": [
    "### Number of address allocation failures because the server could not use any configured pools for a particular client. It is also possible that all of the subnets from which the server attempted to assign an address lack address pools. In this case, it should be considered misconfiguration if an operator expects that some clients should be assigned dynamic addresses. The id is the subnet-id of a given subnet. This statistic is exposed for each subnet separately."
   ]
  },
  {
   "cell_type": "code",
   "execution_count": 151,
   "metadata": {},
   "outputs": [
    {
     "data": {
      "text/plain": [
       "{'subnet[69].v4-allocation-fail-no-pools': [[40153,\n",
       "   '2024-02-12 19:10:49.491409'],\n",
       "  [40152, '2024-02-12 19:10:47.480676'],\n",
       "  [40151, '2024-02-12 19:10:46.634854'],\n",
       "  [40150, '2024-02-12 19:10:43.628457'],\n",
       "  [40149, '2024-02-12 19:10:40.618893'],\n",
       "  [40148, '2024-02-12 19:10:37.608167'],\n",
       "  [40147, '2024-02-12 19:10:37.378924'],\n",
       "  [40146, '2024-02-12 19:10:29.630646'],\n",
       "  [40145, '2024-02-12 19:10:23.892538'],\n",
       "  [40144, '2024-02-12 19:10:20.882310'],\n",
       "  [40143, '2024-02-12 19:10:17.872402'],\n",
       "  [40142, '2024-02-12 19:10:16.862410'],\n",
       "  [40141, '2024-02-12 19:10:14.339857'],\n",
       "  [40140, '2024-02-12 19:10:11.329731'],\n",
       "  [40139, '2024-02-12 19:10:08.319936'],\n",
       "  [40138, '2024-02-12 19:10:07.315940'],\n",
       "  [40137, '2024-02-12 19:10:03.346375'],\n",
       "  [40136, '2024-02-12 19:09:55.043274'],\n",
       "  [40135, '2024-02-12 19:09:52.033169'],\n",
       "  [40134, '2024-02-12 19:09:49.022989']]}"
      ]
     },
     "execution_count": 151,
     "metadata": {},
     "output_type": "execute_result"
    }
   ],
   "source": [
    "server.dhcp4.statistic_get('subnet[69].v4-allocation-fail-no-pools').arguments"
   ]
  },
  {
   "cell_type": "markdown",
   "metadata": {},
   "source": [
    "### Number of address allocation failures when the client's packet belongs to one or more classes. There may be several reasons why a lease was not assigned. One of them may be a case when all pools require packet to belong to certain classes and the incoming packet didn't belong to any of them. Another case where this information may be useful is to point out that the pool reserved to a given class has ran out of addresses. This is a global statistic that covers all subnets."
   ]
  },
  {
   "cell_type": "code",
   "execution_count": 152,
   "metadata": {},
   "outputs": [
    {
     "data": {
      "text/plain": [
       "{'v4-allocation-fail-classes': [[0, '2024-02-28 00:05:47.364874']]}"
      ]
     },
     "execution_count": 152,
     "metadata": {},
     "output_type": "execute_result"
    }
   ],
   "source": [
    "server.dhcp4.statistic_get('v4-allocation-fail-classes').arguments"
   ]
  },
  {
   "cell_type": "markdown",
   "metadata": {},
   "source": [
    "### Number of address allocation failures when the client's packet belongs to one or more classes. There may be several reasons why a lease was not assigned. One of them may be a case when all pools require packet to belong to certain classes and the incoming packet didn't belong to any of them. Another case where this information may be useful is to point out that the pool reserved to a given class has ran out of addresses. The id is the subnet-id of a given subnet. This statistic is exposed for each subnet separately."
   ]
  },
  {
   "cell_type": "code",
   "execution_count": 153,
   "metadata": {},
   "outputs": [
    {
     "data": {
      "text/plain": [
       "{'subnet[188].v4-allocation-fail-classes': [[496,\n",
       "   '2024-02-12 16:08:09.627090'],\n",
       "  [495, '2024-02-12 16:08:06.616720'],\n",
       "  [494, '2024-02-12 16:07:43.468679'],\n",
       "  [493, '2024-02-12 16:07:40.458204'],\n",
       "  [492, '2024-02-12 16:07:37.449306'],\n",
       "  [491, '2024-02-12 16:07:14.260970'],\n",
       "  [490, '2024-02-12 16:07:11.249567'],\n",
       "  [489, '2024-02-12 16:07:08.241168'],\n",
       "  [488, '2024-02-12 16:06:45.079001'],\n",
       "  [487, '2024-02-12 16:06:42.068703'],\n",
       "  [486, '2024-02-12 16:06:39.061908'],\n",
       "  [485, '2024-02-12 16:06:15.912392'],\n",
       "  [484, '2024-02-12 16:06:12.901438'],\n",
       "  [483, '2024-02-12 16:06:09.890434'],\n",
       "  [482, '2024-02-12 16:05:46.681225'],\n",
       "  [481, '2024-02-12 16:05:43.672589'],\n",
       "  [480, '2024-02-12 16:05:40.658115'],\n",
       "  [479, '2024-02-12 16:05:40.058647'],\n",
       "  [478, '2024-02-12 16:05:37.056117'],\n",
       "  [477, '2024-02-12 16:04:54.889723']]}"
      ]
     },
     "execution_count": 153,
     "metadata": {},
     "output_type": "execute_result"
    }
   ],
   "source": [
    "server.dhcp4.statistic_get('subnet[188].v4-allocation-fail-classes').arguments"
   ]
  },
  {
   "cell_type": "code",
   "execution_count": 154,
   "metadata": {},
   "outputs": [
    {
     "data": {
      "text/plain": [
       "{'subnet[69].v4-allocation-fail-classes': [[40153,\n",
       "   '2024-02-12 19:10:49.491425'],\n",
       "  [40152, '2024-02-12 19:10:47.480694'],\n",
       "  [40151, '2024-02-12 19:10:46.634867'],\n",
       "  [40150, '2024-02-12 19:10:43.628471'],\n",
       "  [40149, '2024-02-12 19:10:40.618908'],\n",
       "  [40148, '2024-02-12 19:10:37.608180'],\n",
       "  [40147, '2024-02-12 19:10:37.378939'],\n",
       "  [40146, '2024-02-12 19:10:29.630660'],\n",
       "  [40145, '2024-02-12 19:10:23.892555'],\n",
       "  [40144, '2024-02-12 19:10:20.882342'],\n",
       "  [40143, '2024-02-12 19:10:17.872428'],\n",
       "  [40142, '2024-02-12 19:10:16.862428'],\n",
       "  [40141, '2024-02-12 19:10:14.339886'],\n",
       "  [40140, '2024-02-12 19:10:11.329746'],\n",
       "  [40139, '2024-02-12 19:10:08.319951'],\n",
       "  [40138, '2024-02-12 19:10:07.315952'],\n",
       "  [40137, '2024-02-12 19:10:03.346390'],\n",
       "  [40136, '2024-02-12 19:09:55.043289'],\n",
       "  [40135, '2024-02-12 19:09:52.033184'],\n",
       "  [40134, '2024-02-12 19:09:49.023003']]}"
      ]
     },
     "execution_count": 154,
     "metadata": {},
     "output_type": "execute_result"
    }
   ],
   "source": [
    "server.dhcp4.statistic_get('subnet[69].v4-allocation-fail-classes').arguments"
   ]
  },
  {
   "cell_type": "code",
   "execution_count": 155,
   "metadata": {},
   "outputs": [
    {
     "data": {
      "text/plain": [
       "{'subnet[87].v4-allocation-fail-classes': [[182, '2024-02-02 11:34:05.419841'],\n",
       "  [181, '2024-02-02 11:34:02.409901'],\n",
       "  [180, '2024-02-02 11:33:38.991075'],\n",
       "  [179, '2024-02-02 11:33:35.980057'],\n",
       "  [178, '2024-02-02 11:33:32.970560'],\n",
       "  [177, '2024-02-02 11:33:09.751876'],\n",
       "  [176, '2024-02-02 11:33:06.741485'],\n",
       "  [175, '2024-02-02 11:33:03.731496'],\n",
       "  [174, '2024-02-02 11:32:40.502444'],\n",
       "  [173, '2024-02-02 11:32:37.492998'],\n",
       "  [172, '2024-02-02 11:32:34.482339'],\n",
       "  [171, '2024-02-02 11:32:11.173248'],\n",
       "  [170, '2024-02-02 11:32:08.162679'],\n",
       "  [169, '2024-02-02 11:32:05.154405'],\n",
       "  [168, '2024-02-02 11:31:41.743089'],\n",
       "  [167, '2024-02-02 11:31:38.734175'],\n",
       "  [166, '2024-02-02 11:31:35.723295'],\n",
       "  [165, '2024-02-02 11:31:12.493897'],\n",
       "  [164, '2024-02-02 11:31:09.485249'],\n",
       "  [163, '2024-02-02 11:31:06.474612']]}"
      ]
     },
     "execution_count": 155,
     "metadata": {},
     "output_type": "execute_result"
    }
   ],
   "source": [
    "server.dhcp4.statistic_get('subnet[87].v4-allocation-fail-classes').arguments"
   ]
  },
  {
   "cell_type": "markdown",
   "metadata": {},
   "source": [
    "### Number of times an IPv4 lease had its CLTT increased in memory and its expiration time left unchanged in persistent storage as part of the lease caching feature. This is referred to as a lease reuse. This statistic is global."
   ]
  },
  {
   "cell_type": "code",
   "execution_count": 156,
   "metadata": {},
   "outputs": [
    {
     "data": {
      "text/plain": [
       "{'v4-lease-reuses': [[0, '2023-08-02 17:22:56.720152']]}"
      ]
     },
     "execution_count": 156,
     "metadata": {},
     "output_type": "execute_result"
    }
   ],
   "source": [
    "server.dhcp4.statistic_get('v4-lease-reuses').arguments"
   ]
  },
  {
   "cell_type": "markdown",
   "metadata": {},
   "source": [
    "### Number of times an IPv4 lease had its CLTT increased in memory and its expiration time left unchanged in persistent storage as part of the lease caching feature. This is referred to as a lease reuse. This statistic is on a per-subnet basis. The id is the subnet-id of a given subnet."
   ]
  },
  {
   "cell_type": "code",
   "execution_count": 157,
   "metadata": {},
   "outputs": [
    {
     "data": {
      "text/plain": [
       "{'subnet[69].v4-lease-reuses': [[0, '2023-08-02 17:22:56.828535']]}"
      ]
     },
     "execution_count": 157,
     "metadata": {},
     "output_type": "execute_result"
    }
   ],
   "source": [
    "server.dhcp4.statistic_get('subnet[69].v4-lease-reuses').arguments"
   ]
  },
  {
   "cell_type": "markdown",
   "metadata": {},
   "source": [
    "### Number of host reservation allocation conflicts which have occurred across every subnet. When a client sends a DHCP Discover and is matched to a host reservation which is already leased to another client, this counter is increased by 1."
   ]
  },
  {
   "cell_type": "code",
   "execution_count": 158,
   "metadata": {},
   "outputs": [
    {
     "data": {
      "text/plain": [
       "{'v4-reservation-conflicts': [[0, '2024-03-06 23:57:42.080871']]}"
      ]
     },
     "execution_count": 158,
     "metadata": {},
     "output_type": "execute_result"
    }
   ],
   "source": [
    "server.dhcp4.statistic_get('v4-reservation-conflicts').arguments"
   ]
  },
  {
   "cell_type": "markdown",
   "metadata": {},
   "source": [
    "### Number of host reservation allocation conflicts which have occurred in a specific subnet. When a client sends a DHCP Discover and is matched to a host reservation which is already leased to another client, this counter is increased by 1."
   ]
  },
  {
   "cell_type": "code",
   "execution_count": 159,
   "metadata": {},
   "outputs": [
    {
     "data": {
      "text/plain": [
       "{'subnet[69].v4-reservation-conflicts': [[0, '2023-08-02 17:22:56.828537']]}"
      ]
     },
     "execution_count": 159,
     "metadata": {},
     "output_type": "execute_result"
    }
   ],
   "source": [
    "server.dhcp4.statistic_get('subnet[69].v4-reservation-conflicts').arguments"
   ]
  },
  {
   "cell_type": "markdown",
   "metadata": {},
   "source": [
    "### Examine Subnet Specific Info"
   ]
  },
  {
   "cell_type": "code",
   "execution_count": 160,
   "metadata": {},
   "outputs": [
    {
     "data": {
      "text/plain": [
       "{'subnet[214].assigned-addresses': [[11, '2024-03-26 13:32:47.930738'],\n",
       "  [10, '2024-03-26 13:32:38.082318'],\n",
       "  [11, '2024-03-26 09:28:43.469429'],\n",
       "  [10, '2024-03-21 18:24:25.498970'],\n",
       "  [0, '2024-03-21 18:24:25.498902']]}"
      ]
     },
     "execution_count": 160,
     "metadata": {},
     "output_type": "execute_result"
    }
   ],
   "source": [
    "server.dhcp4.statistic_get('subnet[214].assigned-addresses').arguments"
   ]
  },
  {
   "cell_type": "code",
   "execution_count": 161,
   "metadata": {},
   "outputs": [
    {
     "data": {
      "text/plain": [
       "{'subnet[214].pool[0].assigned-addresses': [[11, '2024-03-26 13:32:47.930743'],\n",
       "  [10, '2024-03-26 13:32:38.082325'],\n",
       "  [11, '2024-03-26 09:28:43.469434'],\n",
       "  [10, '2024-03-21 18:24:25.499174'],\n",
       "  [0, '2024-03-21 18:24:25.498908']]}"
      ]
     },
     "execution_count": 161,
     "metadata": {},
     "output_type": "execute_result"
    }
   ],
   "source": [
    "server.dhcp4.statistic_get('subnet[214].pool[0].assigned-addresses').arguments"
   ]
  },
  {
   "cell_type": "code",
   "execution_count": 162,
   "metadata": {},
   "outputs": [
    {
     "data": {
      "text/plain": [
       "{'subnet[214].declined-addresses': [[0, '2024-03-21 18:24:25.498903']]}"
      ]
     },
     "execution_count": 162,
     "metadata": {},
     "output_type": "execute_result"
    }
   ],
   "source": [
    "server.dhcp4.statistic_get('subnet[214].declined-addresses').arguments"
   ]
  },
  {
   "cell_type": "code",
   "execution_count": 163,
   "metadata": {},
   "outputs": [
    {
     "data": {
      "text/plain": [
       "{'subnet[214].pool[0].declined-addresses': [[0, '2024-03-21 18:24:25.498911']]}"
      ]
     },
     "execution_count": 163,
     "metadata": {},
     "output_type": "execute_result"
    }
   ],
   "source": [
    "server.dhcp4.statistic_get('subnet[214].pool[0].declined-addresses').arguments"
   ]
  },
  {
   "cell_type": "code",
   "execution_count": 164,
   "metadata": {},
   "outputs": [
    {
     "data": {
      "text/plain": [
       "{'subnet[214].pool[0].reclaimed-declined-addresses': [[0,\n",
       "   '2024-03-21 18:24:25.498913']]}"
      ]
     },
     "execution_count": 164,
     "metadata": {},
     "output_type": "execute_result"
    }
   ],
   "source": [
    "server.dhcp4.statistic_get('subnet[214].pool[0].reclaimed-declined-addresses').arguments"
   ]
  },
  {
   "cell_type": "code",
   "execution_count": 165,
   "metadata": {},
   "outputs": [
    {
     "data": {
      "text/plain": [
       "{'subnet[214].pool[0].total-addresses': [[124, '2024-03-21 18:24:25.498229']]}"
      ]
     },
     "execution_count": 165,
     "metadata": {},
     "output_type": "execute_result"
    }
   ],
   "source": [
    "server.dhcp4.statistic_get('subnet[214].pool[0].total-addresses').arguments"
   ]
  },
  {
   "cell_type": "code",
   "execution_count": 166,
   "metadata": {},
   "outputs": [
    {
     "data": {
      "text/plain": [
       "{'subnet[214].reclaimed-declined-addresses': [[0,\n",
       "   '2024-03-21 18:24:25.498905']]}"
      ]
     },
     "execution_count": 166,
     "metadata": {},
     "output_type": "execute_result"
    }
   ],
   "source": [
    "server.dhcp4.statistic_get('subnet[214].reclaimed-declined-addresses').arguments"
   ]
  },
  {
   "cell_type": "code",
   "execution_count": 167,
   "metadata": {},
   "outputs": [
    {
     "data": {
      "text/plain": [
       "{'subnet[214].reclaimed-leases': [[1, '2024-03-26 13:32:38.082321'],\n",
       "  [0, '2024-03-21 18:24:25.498906']]}"
      ]
     },
     "execution_count": 167,
     "metadata": {},
     "output_type": "execute_result"
    }
   ],
   "source": [
    "server.dhcp4.statistic_get('subnet[214].reclaimed-leases').arguments"
   ]
  },
  {
   "cell_type": "code",
   "execution_count": 168,
   "metadata": {},
   "outputs": [
    {
     "data": {
      "text/plain": [
       "{'subnet[214].pool[0].reclaimed-leases': [[1, '2024-03-26 13:32:38.082328'],\n",
       "  [0, '2024-03-21 18:24:25.498915']]}"
      ]
     },
     "execution_count": 168,
     "metadata": {},
     "output_type": "execute_result"
    }
   ],
   "source": [
    "server.dhcp4.statistic_get('subnet[214].pool[0].reclaimed-leases').arguments"
   ]
  },
  {
   "cell_type": "code",
   "execution_count": 169,
   "metadata": {},
   "outputs": [
    {
     "data": {
      "text/plain": [
       "{'subnet[214].total-addresses': [[124, '2024-03-21 18:24:25.498225']]}"
      ]
     },
     "execution_count": 169,
     "metadata": {},
     "output_type": "execute_result"
    }
   ],
   "source": [
    "server.dhcp4.statistic_get('subnet[214].total-addresses').arguments"
   ]
  },
  {
   "cell_type": "code",
   "execution_count": 170,
   "metadata": {},
   "outputs": [
    {
     "data": {
      "text/plain": [
       "{'subnet[214].pool[0].total-addresses': [[124, '2024-03-21 18:24:25.498229']]}"
      ]
     },
     "execution_count": 170,
     "metadata": {},
     "output_type": "execute_result"
    }
   ],
   "source": [
    "server.dhcp4.statistic_get('subnet[214].pool[0].total-addresses').arguments"
   ]
  },
  {
   "cell_type": "code",
   "execution_count": 171,
   "metadata": {},
   "outputs": [
    {
     "data": {
      "text/plain": [
       "{'subnet[214].v4-lease-reuses': [[0, '2024-02-28 16:07:28.599639']]}"
      ]
     },
     "execution_count": 171,
     "metadata": {},
     "output_type": "execute_result"
    }
   ],
   "source": [
    "server.dhcp4.statistic_get('subnet[214].v4-lease-reuses').arguments"
   ]
  },
  {
   "cell_type": "code",
   "execution_count": 172,
   "metadata": {},
   "outputs": [
    {
     "data": {
      "text/plain": [
       "{'subnet[214].v4-reservation-conflicts': [[0, '2024-02-28 16:07:28.599641']]}"
      ]
     },
     "execution_count": 172,
     "metadata": {},
     "output_type": "execute_result"
    }
   ],
   "source": [
    "server.dhcp4.statistic_get('subnet[214].v4-reservation-conflicts').arguments"
   ]
  },
  {
   "cell_type": "code",
   "execution_count": 173,
   "metadata": {},
   "outputs": [
    {
     "data": {
      "text/plain": [
       "{'subnet[214].total-addresses': [[124, '2024-03-21 18:24:25.498225']]}"
      ]
     },
     "execution_count": 173,
     "metadata": {},
     "output_type": "execute_result"
    }
   ],
   "source": [
    "server.dhcp4.statistic_get('subnet[214].total-addresses').arguments"
   ]
  },
  {
   "cell_type": "code",
   "execution_count": 174,
   "metadata": {},
   "outputs": [
    {
     "data": {
      "text/plain": [
       "[[11, '2024-03-26 13:32:47.930738'],\n",
       " [10, '2024-03-26 13:32:38.082318'],\n",
       " [11, '2024-03-26 09:28:43.469429'],\n",
       " [10, '2024-03-21 18:24:25.498970'],\n",
       " [0, '2024-03-21 18:24:25.498902']]"
      ]
     },
     "execution_count": 174,
     "metadata": {},
     "output_type": "execute_result"
    }
   ],
   "source": [
    "server.dhcp4.statistic_get('subnet[214].assigned-addresses').arguments['subnet[214].assigned-addresses']"
   ]
  },
  {
   "cell_type": "markdown",
   "metadata": {},
   "source": [
    "## Requests Stats --> instead of PYKEADHCP WRAPPER"
   ]
  },
  {
   "cell_type": "code",
   "execution_count": 175,
   "metadata": {},
   "outputs": [
    {
     "data": {
      "text/plain": [
       "[{'arguments': {'subnet[214].total-addresses': [[124,\n",
       "     '2024-03-21 18:24:25.498225']]},\n",
       "  'result': 0}]"
      ]
     },
     "execution_count": 175,
     "metadata": {},
     "output_type": "execute_result"
    }
   ],
   "source": [
    "import requests\n",
    "\n",
    "s = requests.Session()\n",
    "s.verify = '/etc/ssl/certs'\n",
    "\n",
    "headers = {\n",
    "    'Content-Type': 'application/json',\n",
    "}\n",
    "\n",
    "json_data = {\n",
    "    'command': 'statistic-get',\n",
    "    'service': [\n",
    "        'dhcp4',\n",
    "    ],\n",
    "    \"arguments\": {\n",
    "        'name': 'subnet[214].total-addresses' \n",
    "    }\n",
    "}\n",
    "\n",
    "response = s.post('https://kea.vip.com:1443/', headers=headers, json=json_data, auth=('admin', 'admin'))\n",
    "response.json()"
   ]
  },
  {
   "cell_type": "code",
   "execution_count": 176,
   "metadata": {},
   "outputs": [
    {
     "data": {
      "text/plain": [
       "[{'arguments': {'subnet[214].assigned-addresses': [[11,\n",
       "     '2024-03-26 13:32:47.930738'],\n",
       "    [10, '2024-03-26 13:32:38.082318'],\n",
       "    [11, '2024-03-26 09:28:43.469429'],\n",
       "    [10, '2024-03-21 18:24:25.498970'],\n",
       "    [0, '2024-03-21 18:24:25.498902']]},\n",
       "  'result': 0}]"
      ]
     },
     "execution_count": 176,
     "metadata": {},
     "output_type": "execute_result"
    }
   ],
   "source": [
    "import requests\n",
    "\n",
    "s = requests.Session()\n",
    "s.verify = '/etc/ssl/certs'\n",
    "\n",
    "headers = {\n",
    "    'Content-Type': 'application/json',\n",
    "}\n",
    "\n",
    "json_data = {\n",
    "    'command': 'statistic-get',\n",
    "    'service': [\n",
    "        'dhcp4',\n",
    "    ],\n",
    "    \"arguments\": {\n",
    "        'name': 'subnet[214].assigned-addresses' \n",
    "    }\n",
    "}\n",
    "\n",
    "response = s.post('https://kea.vip.com:1443/', headers=headers, json=json_data, auth=('admin', 'admin'))\n",
    "response.json()"
   ]
  },
  {
   "cell_type": "code",
   "execution_count": null,
   "metadata": {},
   "outputs": [],
   "source": []
  }
 ],
 "metadata": {
  "kernelspec": {
   "display_name": "Python 3",
   "language": "python",
   "name": "python3"
  },
  "language_info": {
   "codemirror_mode": {
    "name": "ipython",
    "version": 3
   },
   "file_extension": ".py",
   "mimetype": "text/x-python",
   "name": "python",
   "nbconvert_exporter": "python",
   "pygments_lexer": "ipython3",
   "version": "3.7.3"
  }
 },
 "nbformat": 4,
 "nbformat_minor": 5
}
